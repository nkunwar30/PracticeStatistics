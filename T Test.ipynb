{
 "cells": [
  {
   "cell_type": "markdown",
   "metadata": {},
   "source": [
    "# <Span style='color:blue'>Statististics</span>\n",
    "\n",
    "- Statistics = Descriptive and Inferential Statistics\n",
    "- Descriptive = Univariate, Bivariate and Multivariate   \n",
    "-----------------\n",
    "- Univariate => Frequency, Central tendency and Dispersion  \n",
    "- Frequency = ocurrence of a particular item/value , use Histogram and Frequency Table\n",
    "- Central Tendency = Mean (Avg), Median (50% Percentile of a dataset), Mode (maximum occurence of a value), Other Infrequently used Measures = Geometric Mean (used in business, Rate of return) , Harmonic Mean \n",
    "- Dispersion = Range(Max - Min), IQR (25% - 75% Percentile) Inter Quartile Range, Standard Deviation and Variance\n",
    "---------------\n",
    "- Bivariate\n",
    "- Correlation and Covariance\n",
    "---------------\n",
    "- Multivariate\n",
    "- Matrix Correlation and Covariance\n",
    "\n",
    "# Lady Tasting Tea\n",
    "- 1800\n",
    "\n",
    "$H_{o}$: Null Hypothesis /* There is no relationship*/    \n",
    "$H_{1}$: Alternate Hypothesis\n",
    "\n",
    "__Measures of Hypothesis__\n",
    "- Power of statistical test = Probability of rejecting $H_{o}$ when $H_{1}$ is TRUE, Higher the value better it is and will have low probability of Type II error. i.e. if $H_{0}$ is FALSE then probability to to NOT TO REJECT NULL HYPOTHESIS is LOW\n",
    "- $\\alpha$ = Probability of rejecting $H_{o}$ when $H_{o}$ is true. It is the probability of Type I error\n",
    "- p value = Probability of occurence of event , is compared to $\\alpha$ to decide whether to accept $H_{o}$"
   ]
  },
  {
   "cell_type": "markdown",
   "metadata": {},
   "source": [
    "## Read this ==> https://www.investopedia.com/terms/t/t-test.asp\n",
    "\n",
    "# <span style='color:red'>t-test and Z-test</span>\n",
    "- LEVENS Test \n",
    "# T Test\n",
    "## Paired/Correlated dataset\n",
    "- Paired Test or Correlated test e.g. pulse measurements of set of patients before and after drug\n",
    "- Paired or correlated T Test concerns about samples having some relationship or test is dependent type\n",
    "# $T-value = \\frac{\\mu_1 - \\mu_2}{\\frac{S\\left (diff\\right )}{\\sqrt{\\left(n\\right)}}}$\n",
    "\n",
    "# <span style='çolor:red'>Independent T Test </span>\n",
    "\n",
    "## <span style='çolor:blue'> Equal Variance (or Pooled) T=Test</span>\n",
    "\n",
    "- Sample data collected is not dependent or related to each other e.g. 100 patients split into two groups 50 each. One prescribed with drug and other placebo\n",
    "# $T-Value = \\frac{\\mu_1 -\\mu_2}{\\frac{\\left(n_1 - 1\\right)*var_1^2+\\left(n_2 - 1\\right)*var_2^2}{n_1+n_2-2}X\\sqrt{\\frac{1}{n}+\\frac{1}{n2}}}$\n",
    "## - Degree of freedom = $n_1 + n_2 -2$\n",
    "\n",
    "## <span style='çolor:blue'> Unequal Variance T=Test or WELCH's T-Test </span>\n",
    "- When number of samples in each group is different, and variance of the two dataset is also different\n",
    "# $T-Value = \\frac{\\mu_1 - \\mu_2}{\\frac{var_1^2}{n_1}+\\frac{var_2^2}{n_2}}$\n",
    "## - Degree of freedom = $\\frac{\\left(var_1^2/n_1 + var_2^2/n_2\\right)^2}{\\frac{\\left(var_1^2/n_1\\right)^2}{n_1-1} + \\frac{\\left(var_2^2/n_2\\right)^2}{n_2-1}}$\n",
    "\n"
   ]
  },
  {
   "cell_type": "code",
   "execution_count": 1,
   "metadata": {},
   "outputs": [
    {
     "name": "stdout",
     "output_type": "stream",
     "text": [
      "Requirement already satisfied: scipy in c:\\users\\niraj kumar\\anaconda3\\lib\\site-packages (1.1.0)\n",
      "Requirement already satisfied: numpy>=1.8.2 in c:\\users\\niraj kumar\\anaconda3\\lib\\site-packages (from scipy) (1.15.4)\n"
     ]
    }
   ],
   "source": [
    "# Install Scipy , researchpy packagess\n",
    "!pip install scipy"
   ]
  },
  {
   "cell_type": "code",
   "execution_count": 2,
   "metadata": {},
   "outputs": [
    {
     "name": "stdout",
     "output_type": "stream",
     "text": [
      "Requirement already satisfied: researchpy in c:\\users\\niraj kumar\\anaconda3\\lib\\site-packages (0.3.2)\n",
      "Requirement already satisfied: patsy in c:\\users\\niraj kumar\\anaconda3\\lib\\site-packages (from researchpy) (0.4.1)\n",
      "Requirement already satisfied: scipy in c:\\users\\niraj kumar\\anaconda3\\lib\\site-packages (from researchpy) (1.1.0)\n",
      "Requirement already satisfied: pandas in c:\\users\\niraj kumar\\anaconda3\\lib\\site-packages (from researchpy) (0.24.0)\n",
      "Requirement already satisfied: statsmodels in c:\\users\\niraj kumar\\anaconda3\\lib\\site-packages (from researchpy) (0.10.2)\n",
      "Requirement already satisfied: numpy in c:\\users\\niraj kumar\\anaconda3\\lib\\site-packages (from researchpy) (1.15.4)\n",
      "Requirement already satisfied: python-dateutil>=2.5.0 in c:\\users\\niraj kumar\\anaconda3\\lib\\site-packages (from pandas->researchpy) (2.6.0)\n",
      "Requirement already satisfied: pytz>=2011k in c:\\users\\niraj kumar\\anaconda3\\lib\\site-packages (from pandas->researchpy) (2017.2)\n",
      "Requirement already satisfied: six>=1.5 in c:\\users\\niraj kumar\\appdata\\roaming\\python\\python36\\site-packages (from python-dateutil>=2.5.0->pandas->researchpy) (1.15.0)\n"
     ]
    }
   ],
   "source": [
    "!pip install researchpy"
   ]
  },
  {
   "cell_type": "code",
   "execution_count": 3,
   "metadata": {},
   "outputs": [
    {
     "name": "stdout",
     "output_type": "stream",
     "text": [
      "Requirement already satisfied: pip in c:\\users\\niraj kumar\\anaconda3\\lib\\site-packages (21.2.4)\n"
     ]
    }
   ],
   "source": [
    "!python -m pip install --upgrade pip"
   ]
  },
  {
   "cell_type": "code",
   "execution_count": 4,
   "metadata": {
    "collapsed": true
   },
   "outputs": [],
   "source": [
    "# Import other statistical modules\n",
    "import statsmodels.api as sm\n",
    "import matplotlib.pyplot as plt\n",
    "import pandas as pd\n",
    "import numpy as np\n",
    "from sklearn.preprocessing import scale\n",
    "\n",
    "import researchpy as rp\n",
    "from scipy import stats"
   ]
  },
  {
   "cell_type": "code",
   "execution_count": null,
   "metadata": {
    "collapsed": true
   },
   "outputs": [],
   "source": [
    "\n"
   ]
  },
  {
   "cell_type": "code",
   "execution_count": 5,
   "metadata": {
    "collapsed": true
   },
   "outputs": [],
   "source": [
    "bike_sharing_data = pd.read_csv('datasets/day.csv')"
   ]
  },
  {
   "cell_type": "code",
   "execution_count": 6,
   "metadata": {},
   "outputs": [
    {
     "data": {
      "text/plain": [
       "(731, 16)"
      ]
     },
     "execution_count": 6,
     "metadata": {},
     "output_type": "execute_result"
    }
   ],
   "source": [
    "bike_sharing_data.shape"
   ]
  },
  {
   "cell_type": "code",
   "execution_count": 7,
   "metadata": {},
   "outputs": [
    {
     "data": {
      "text/html": [
       "<div>\n",
       "<style scoped>\n",
       "    .dataframe tbody tr th:only-of-type {\n",
       "        vertical-align: middle;\n",
       "    }\n",
       "\n",
       "    .dataframe tbody tr th {\n",
       "        vertical-align: top;\n",
       "    }\n",
       "\n",
       "    .dataframe thead th {\n",
       "        text-align: right;\n",
       "    }\n",
       "</style>\n",
       "<table border=\"1\" class=\"dataframe\">\n",
       "  <thead>\n",
       "    <tr style=\"text-align: right;\">\n",
       "      <th></th>\n",
       "      <th>instant</th>\n",
       "      <th>dteday</th>\n",
       "      <th>season</th>\n",
       "      <th>yr</th>\n",
       "      <th>mnth</th>\n",
       "      <th>holiday</th>\n",
       "      <th>weekday</th>\n",
       "      <th>workingday</th>\n",
       "      <th>weathersit</th>\n",
       "      <th>temp</th>\n",
       "      <th>atemp</th>\n",
       "      <th>hum</th>\n",
       "      <th>windspeed</th>\n",
       "      <th>casual</th>\n",
       "      <th>registered</th>\n",
       "      <th>cnt</th>\n",
       "    </tr>\n",
       "  </thead>\n",
       "  <tbody>\n",
       "    <tr>\n",
       "      <th>0</th>\n",
       "      <td>1</td>\n",
       "      <td>2011-01-01</td>\n",
       "      <td>1</td>\n",
       "      <td>0</td>\n",
       "      <td>1</td>\n",
       "      <td>0</td>\n",
       "      <td>6</td>\n",
       "      <td>0</td>\n",
       "      <td>2</td>\n",
       "      <td>0.344167</td>\n",
       "      <td>0.363625</td>\n",
       "      <td>0.805833</td>\n",
       "      <td>0.160446</td>\n",
       "      <td>331</td>\n",
       "      <td>654</td>\n",
       "      <td>985</td>\n",
       "    </tr>\n",
       "    <tr>\n",
       "      <th>1</th>\n",
       "      <td>2</td>\n",
       "      <td>2011-01-02</td>\n",
       "      <td>1</td>\n",
       "      <td>0</td>\n",
       "      <td>1</td>\n",
       "      <td>0</td>\n",
       "      <td>0</td>\n",
       "      <td>0</td>\n",
       "      <td>2</td>\n",
       "      <td>0.363478</td>\n",
       "      <td>0.353739</td>\n",
       "      <td>0.696087</td>\n",
       "      <td>0.248539</td>\n",
       "      <td>131</td>\n",
       "      <td>670</td>\n",
       "      <td>801</td>\n",
       "    </tr>\n",
       "    <tr>\n",
       "      <th>2</th>\n",
       "      <td>3</td>\n",
       "      <td>2011-01-03</td>\n",
       "      <td>1</td>\n",
       "      <td>0</td>\n",
       "      <td>1</td>\n",
       "      <td>0</td>\n",
       "      <td>1</td>\n",
       "      <td>1</td>\n",
       "      <td>1</td>\n",
       "      <td>0.196364</td>\n",
       "      <td>0.189405</td>\n",
       "      <td>0.437273</td>\n",
       "      <td>0.248309</td>\n",
       "      <td>120</td>\n",
       "      <td>1229</td>\n",
       "      <td>1349</td>\n",
       "    </tr>\n",
       "    <tr>\n",
       "      <th>3</th>\n",
       "      <td>4</td>\n",
       "      <td>2011-01-04</td>\n",
       "      <td>1</td>\n",
       "      <td>0</td>\n",
       "      <td>1</td>\n",
       "      <td>0</td>\n",
       "      <td>2</td>\n",
       "      <td>1</td>\n",
       "      <td>1</td>\n",
       "      <td>0.200000</td>\n",
       "      <td>0.212122</td>\n",
       "      <td>0.590435</td>\n",
       "      <td>0.160296</td>\n",
       "      <td>108</td>\n",
       "      <td>1454</td>\n",
       "      <td>1562</td>\n",
       "    </tr>\n",
       "    <tr>\n",
       "      <th>4</th>\n",
       "      <td>5</td>\n",
       "      <td>2011-01-05</td>\n",
       "      <td>1</td>\n",
       "      <td>0</td>\n",
       "      <td>1</td>\n",
       "      <td>0</td>\n",
       "      <td>3</td>\n",
       "      <td>1</td>\n",
       "      <td>1</td>\n",
       "      <td>0.226957</td>\n",
       "      <td>0.229270</td>\n",
       "      <td>0.436957</td>\n",
       "      <td>0.186900</td>\n",
       "      <td>82</td>\n",
       "      <td>1518</td>\n",
       "      <td>1600</td>\n",
       "    </tr>\n",
       "  </tbody>\n",
       "</table>\n",
       "</div>"
      ],
      "text/plain": [
       "   instant      dteday  season  yr  mnth  holiday  weekday  workingday  \\\n",
       "0        1  2011-01-01       1   0     1        0        6           0   \n",
       "1        2  2011-01-02       1   0     1        0        0           0   \n",
       "2        3  2011-01-03       1   0     1        0        1           1   \n",
       "3        4  2011-01-04       1   0     1        0        2           1   \n",
       "4        5  2011-01-05       1   0     1        0        3           1   \n",
       "\n",
       "   weathersit      temp     atemp       hum  windspeed  casual  registered  \\\n",
       "0           2  0.344167  0.363625  0.805833   0.160446     331         654   \n",
       "1           2  0.363478  0.353739  0.696087   0.248539     131         670   \n",
       "2           1  0.196364  0.189405  0.437273   0.248309     120        1229   \n",
       "3           1  0.200000  0.212122  0.590435   0.160296     108        1454   \n",
       "4           1  0.226957  0.229270  0.436957   0.186900      82        1518   \n",
       "\n",
       "    cnt  \n",
       "0   985  \n",
       "1   801  \n",
       "2  1349  \n",
       "3  1562  \n",
       "4  1600  "
      ]
     },
     "execution_count": 7,
     "metadata": {},
     "output_type": "execute_result"
    }
   ],
   "source": [
    "bike_sharing_data.head()"
   ]
  },
  {
   "cell_type": "code",
   "execution_count": 8,
   "metadata": {
    "collapsed": true
   },
   "outputs": [],
   "source": [
    "bike_sharing_data = bike_sharing_data[['season','mnth','holiday','workingday','weathersit','temp','cnt']]"
   ]
  },
  {
   "cell_type": "code",
   "execution_count": 9,
   "metadata": {
    "collapsed": true
   },
   "outputs": [],
   "source": [
    "bike_sharing_data.to_csv('datasets/bike_sharing_data_processed.csv',index=False)"
   ]
  },
  {
   "cell_type": "code",
   "execution_count": 10,
   "metadata": {},
   "outputs": [
    {
     "data": {
      "text/plain": [
       "array([0, 1], dtype=int64)"
      ]
     },
     "execution_count": 10,
     "metadata": {},
     "output_type": "execute_result"
    }
   ],
   "source": [
    "bike_sharing_data['workingday'].unique()"
   ]
  },
  {
   "cell_type": "code",
   "execution_count": 11,
   "metadata": {},
   "outputs": [
    {
     "data": {
      "text/plain": [
       "array([0, 1], dtype=int64)"
      ]
     },
     "execution_count": 11,
     "metadata": {},
     "output_type": "execute_result"
    }
   ],
   "source": [
    "bike_sharing_data['holiday'].unique()"
   ]
  },
  {
   "cell_type": "code",
   "execution_count": 12,
   "metadata": {},
   "outputs": [
    {
     "data": {
      "text/plain": [
       "array([2, 1, 3], dtype=int64)"
      ]
     },
     "execution_count": 12,
     "metadata": {},
     "output_type": "execute_result"
    }
   ],
   "source": [
    "bike_sharing_data['weathersit'].unique()"
   ]
  },
  {
   "cell_type": "code",
   "execution_count": 13,
   "metadata": {},
   "outputs": [
    {
     "data": {
      "text/plain": [
       "count    731.000000\n",
       "mean       0.495385\n",
       "std        0.183051\n",
       "min        0.059130\n",
       "25%        0.337083\n",
       "50%        0.498333\n",
       "75%        0.655417\n",
       "max        0.861667\n",
       "Name: temp, dtype: float64"
      ]
     },
     "execution_count": 13,
     "metadata": {},
     "output_type": "execute_result"
    }
   ],
   "source": [
    "bike_sharing_data['temp'].describe()"
   ]
  },
  {
   "cell_type": "code",
   "execution_count": 14,
   "metadata": {},
   "outputs": [
    {
     "data": {
      "text/html": [
       "<div>\n",
       "<style scoped>\n",
       "    .dataframe tbody tr th:only-of-type {\n",
       "        vertical-align: middle;\n",
       "    }\n",
       "\n",
       "    .dataframe tbody tr th {\n",
       "        vertical-align: top;\n",
       "    }\n",
       "\n",
       "    .dataframe thead th {\n",
       "        text-align: right;\n",
       "    }\n",
       "</style>\n",
       "<table border=\"1\" class=\"dataframe\">\n",
       "  <thead>\n",
       "    <tr style=\"text-align: right;\">\n",
       "      <th></th>\n",
       "      <th>count</th>\n",
       "      <th>mean</th>\n",
       "      <th>std</th>\n",
       "      <th>min</th>\n",
       "      <th>25%</th>\n",
       "      <th>50%</th>\n",
       "      <th>75%</th>\n",
       "      <th>max</th>\n",
       "    </tr>\n",
       "    <tr>\n",
       "      <th>workingday</th>\n",
       "      <th></th>\n",
       "      <th></th>\n",
       "      <th></th>\n",
       "      <th></th>\n",
       "      <th></th>\n",
       "      <th></th>\n",
       "      <th></th>\n",
       "      <th></th>\n",
       "    </tr>\n",
       "  </thead>\n",
       "  <tbody>\n",
       "    <tr>\n",
       "      <th>0</th>\n",
       "      <td>231.0</td>\n",
       "      <td>4330.168831</td>\n",
       "      <td>2052.141245</td>\n",
       "      <td>605.0</td>\n",
       "      <td>2710.50</td>\n",
       "      <td>4459.0</td>\n",
       "      <td>5907.5</td>\n",
       "      <td>8714.0</td>\n",
       "    </tr>\n",
       "    <tr>\n",
       "      <th>1</th>\n",
       "      <td>500.0</td>\n",
       "      <td>4584.820000</td>\n",
       "      <td>1878.415583</td>\n",
       "      <td>22.0</td>\n",
       "      <td>3344.25</td>\n",
       "      <td>4582.0</td>\n",
       "      <td>5987.5</td>\n",
       "      <td>8362.0</td>\n",
       "    </tr>\n",
       "  </tbody>\n",
       "</table>\n",
       "</div>"
      ],
      "text/plain": [
       "            count         mean          std    min      25%     50%     75%  \\\n",
       "workingday                                                                    \n",
       "0           231.0  4330.168831  2052.141245  605.0  2710.50  4459.0  5907.5   \n",
       "1           500.0  4584.820000  1878.415583   22.0  3344.25  4582.0  5987.5   \n",
       "\n",
       "               max  \n",
       "workingday          \n",
       "0           8714.0  \n",
       "1           8362.0  "
      ]
     },
     "execution_count": 14,
     "metadata": {},
     "output_type": "execute_result"
    }
   ],
   "source": [
    "bike_sharing_data.groupby('workingday')['cnt'].describe()"
   ]
  },
  {
   "cell_type": "code",
   "execution_count": 15,
   "metadata": {
    "collapsed": true
   },
   "outputs": [],
   "source": [
    "%matplotlib inline"
   ]
  },
  {
   "cell_type": "code",
   "execution_count": 16,
   "metadata": {},
   "outputs": [
    {
     "data": {
      "image/png": "[encoded data removed]",
      "text/plain": [
       "<Figure size 720x432 with 1 Axes>"
      ]
     },
     "metadata": {},
     "output_type": "display_data"
    }
   ],
   "source": [
    "_=bike_sharing_data.boxplot(column=['cnt'],by='workingday',figsize=(10,6))"
   ]
  },
  {
   "cell_type": "code",
   "execution_count": 17,
   "metadata": {
    "collapsed": true
   },
   "outputs": [],
   "source": [
    "# Create 2 samples\n",
    "sample_01 = bike_sharing_data[bike_sharing_data.workingday==1]\n",
    "sample_02 = bike_sharing_data[bike_sharing_data.workingday==0]"
   ]
  },
  {
   "cell_type": "code",
   "execution_count": 18,
   "metadata": {},
   "outputs": [
    {
     "data": {
      "text/plain": [
       "((500, 7), (231, 7))"
      ]
     },
     "execution_count": 18,
     "metadata": {},
     "output_type": "execute_result"
    }
   ],
   "source": [
    "sample_01.shape, sample_02.shape"
   ]
  },
  {
   "cell_type": "code",
   "execution_count": 19,
   "metadata": {
    "collapsed": true
   },
   "outputs": [],
   "source": [
    "# take random same number of data from sample 02\n",
    "sample_01=sample_01.sample(231)"
   ]
  },
  {
   "cell_type": "code",
   "execution_count": 20,
   "metadata": {},
   "outputs": [
    {
     "data": {
      "text/plain": [
       "(231, 7)"
      ]
     },
     "execution_count": 20,
     "metadata": {},
     "output_type": "execute_result"
    }
   ],
   "source": [
    "sample_02.shape"
   ]
  },
  {
   "cell_type": "markdown",
   "metadata": {},
   "source": [
    "# LEVENE'S Test: Estimate significance of difference between variance of 2 groups. \n",
    "# <span style='color:red'> $W=\\frac{\\left (N-K\\right )\\sum_{i=1}^{k}N_i(\\bar Z_i - Z)^2}{\\left (k-1 \\right ) \\sum_{i=1}^{k}\\sum_{j=i}^{N_i}\\left (Z_{ij}-\\bar Z_i\\right )^2}$ </span>"
   ]
  },
  {
   "cell_type": "code",
   "execution_count": 21,
   "metadata": {},
   "outputs": [
    {
     "data": {
      "text/plain": [
       "LeveneResult(statistic=1.4506583500601682, pvalue=0.22904168095226446)"
      ]
     },
     "execution_count": 21,
     "metadata": {},
     "output_type": "execute_result"
    }
   ],
   "source": [
    "stats.levene(sample_01['cnt'],sample_02['cnt'])"
   ]
  },
  {
   "cell_type": "code",
   "execution_count": 22,
   "metadata": {},
   "outputs": [
    {
     "data": {
      "text/html": [
       "<div>\n",
       "<style scoped>\n",
       "    .dataframe tbody tr th:only-of-type {\n",
       "        vertical-align: middle;\n",
       "    }\n",
       "\n",
       "    .dataframe tbody tr th {\n",
       "        vertical-align: top;\n",
       "    }\n",
       "\n",
       "    .dataframe thead th {\n",
       "        text-align: right;\n",
       "    }\n",
       "</style>\n",
       "<table border=\"1\" class=\"dataframe\">\n",
       "  <thead>\n",
       "    <tr style=\"text-align: right;\">\n",
       "      <th></th>\n",
       "      <th>season</th>\n",
       "      <th>mnth</th>\n",
       "      <th>holiday</th>\n",
       "      <th>workingday</th>\n",
       "      <th>weathersit</th>\n",
       "      <th>temp</th>\n",
       "      <th>cnt</th>\n",
       "    </tr>\n",
       "  </thead>\n",
       "  <tbody>\n",
       "    <tr>\n",
       "      <th>321</th>\n",
       "      <td>4</td>\n",
       "      <td>11</td>\n",
       "      <td>0</td>\n",
       "      <td>1</td>\n",
       "      <td>1</td>\n",
       "      <td>0.274167</td>\n",
       "      <td>3392</td>\n",
       "    </tr>\n",
       "    <tr>\n",
       "      <th>719</th>\n",
       "      <td>4</td>\n",
       "      <td>12</td>\n",
       "      <td>0</td>\n",
       "      <td>1</td>\n",
       "      <td>2</td>\n",
       "      <td>0.330000</td>\n",
       "      <td>4128</td>\n",
       "    </tr>\n",
       "    <tr>\n",
       "      <th>263</th>\n",
       "      <td>3</td>\n",
       "      <td>9</td>\n",
       "      <td>0</td>\n",
       "      <td>1</td>\n",
       "      <td>2</td>\n",
       "      <td>0.595000</td>\n",
       "      <td>4352</td>\n",
       "    </tr>\n",
       "    <tr>\n",
       "      <th>600</th>\n",
       "      <td>3</td>\n",
       "      <td>8</td>\n",
       "      <td>0</td>\n",
       "      <td>1</td>\n",
       "      <td>1</td>\n",
       "      <td>0.695833</td>\n",
       "      <td>7765</td>\n",
       "    </tr>\n",
       "    <tr>\n",
       "      <th>562</th>\n",
       "      <td>3</td>\n",
       "      <td>7</td>\n",
       "      <td>0</td>\n",
       "      <td>1</td>\n",
       "      <td>1</td>\n",
       "      <td>0.763333</td>\n",
       "      <td>6830</td>\n",
       "    </tr>\n",
       "  </tbody>\n",
       "</table>\n",
       "</div>"
      ],
      "text/plain": [
       "     season  mnth  holiday  workingday  weathersit      temp   cnt\n",
       "321       4    11        0           1           1  0.274167  3392\n",
       "719       4    12        0           1           2  0.330000  4128\n",
       "263       3     9        0           1           2  0.595000  4352\n",
       "600       3     8        0           1           1  0.695833  7765\n",
       "562       3     7        0           1           1  0.763333  6830"
      ]
     },
     "execution_count": 22,
     "metadata": {},
     "output_type": "execute_result"
    }
   ],
   "source": [
    "sample_01.head()"
   ]
  },
  {
   "cell_type": "code",
   "execution_count": 23,
   "metadata": {},
   "outputs": [
    {
     "data": {
      "text/html": [
       "<div>\n",
       "<style scoped>\n",
       "    .dataframe tbody tr th:only-of-type {\n",
       "        vertical-align: middle;\n",
       "    }\n",
       "\n",
       "    .dataframe tbody tr th {\n",
       "        vertical-align: top;\n",
       "    }\n",
       "\n",
       "    .dataframe thead th {\n",
       "        text-align: right;\n",
       "    }\n",
       "</style>\n",
       "<table border=\"1\" class=\"dataframe\">\n",
       "  <thead>\n",
       "    <tr style=\"text-align: right;\">\n",
       "      <th></th>\n",
       "      <th>season</th>\n",
       "      <th>mnth</th>\n",
       "      <th>holiday</th>\n",
       "      <th>workingday</th>\n",
       "      <th>weathersit</th>\n",
       "      <th>temp</th>\n",
       "      <th>cnt</th>\n",
       "    </tr>\n",
       "  </thead>\n",
       "  <tbody>\n",
       "    <tr>\n",
       "      <th>0</th>\n",
       "      <td>1</td>\n",
       "      <td>1</td>\n",
       "      <td>0</td>\n",
       "      <td>0</td>\n",
       "      <td>2</td>\n",
       "      <td>0.344167</td>\n",
       "      <td>985</td>\n",
       "    </tr>\n",
       "    <tr>\n",
       "      <th>1</th>\n",
       "      <td>1</td>\n",
       "      <td>1</td>\n",
       "      <td>0</td>\n",
       "      <td>0</td>\n",
       "      <td>2</td>\n",
       "      <td>0.363478</td>\n",
       "      <td>801</td>\n",
       "    </tr>\n",
       "    <tr>\n",
       "      <th>7</th>\n",
       "      <td>1</td>\n",
       "      <td>1</td>\n",
       "      <td>0</td>\n",
       "      <td>0</td>\n",
       "      <td>2</td>\n",
       "      <td>0.165000</td>\n",
       "      <td>959</td>\n",
       "    </tr>\n",
       "    <tr>\n",
       "      <th>8</th>\n",
       "      <td>1</td>\n",
       "      <td>1</td>\n",
       "      <td>0</td>\n",
       "      <td>0</td>\n",
       "      <td>1</td>\n",
       "      <td>0.138333</td>\n",
       "      <td>822</td>\n",
       "    </tr>\n",
       "    <tr>\n",
       "      <th>14</th>\n",
       "      <td>1</td>\n",
       "      <td>1</td>\n",
       "      <td>0</td>\n",
       "      <td>0</td>\n",
       "      <td>2</td>\n",
       "      <td>0.233333</td>\n",
       "      <td>1248</td>\n",
       "    </tr>\n",
       "  </tbody>\n",
       "</table>\n",
       "</div>"
      ],
      "text/plain": [
       "    season  mnth  holiday  workingday  weathersit      temp   cnt\n",
       "0        1     1        0           0           2  0.344167   985\n",
       "1        1     1        0           0           2  0.363478   801\n",
       "7        1     1        0           0           2  0.165000   959\n",
       "8        1     1        0           0           1  0.138333   822\n",
       "14       1     1        0           0           2  0.233333  1248"
      ]
     },
     "execution_count": 23,
     "metadata": {},
     "output_type": "execute_result"
    }
   ],
   "source": [
    "sample_02.head()"
   ]
  },
  {
   "cell_type": "code",
   "execution_count": 24,
   "metadata": {
    "collapsed": true
   },
   "outputs": [],
   "source": [
    "diff=scale(np.array(sample_01['cnt'])-np.array(sample_02['cnt'],dtype=np.float))"
   ]
  },
  {
   "cell_type": "code",
   "execution_count": 25,
   "metadata": {},
   "outputs": [
    {
     "data": {
      "text/plain": [
       "(array([ 6.,  9., 16., 41., 38., 35., 36., 24., 20.,  6.]),\n",
       " array([-2.48275569, -2.00716182, -1.53156795, -1.05597407, -0.5803802 ,\n",
       "        -0.10478633,  0.37080754,  0.84640141,  1.32199528,  1.79758915,\n",
       "         2.27318302]),\n",
       " <a list of 10 Patch objects>)"
      ]
     },
     "execution_count": 25,
     "metadata": {},
     "output_type": "execute_result"
    },
    {
     "data": {
      "image/png": "[encoded data removed]",
      "text/plain": [
       "<Figure size 432x288 with 1 Axes>"
      ]
     },
     "metadata": {},
     "output_type": "display_data"
    }
   ],
   "source": [
    "plt.hist(diff)"
   ]
  },
  {
   "cell_type": "code",
   "execution_count": 26,
   "metadata": {},
   "outputs": [
    {
     "data": {
      "image/png": "[encoded data removed]",
      "text/plain": [
       "<Figure size 720x576 with 1 Axes>"
      ]
     },
     "metadata": {},
     "output_type": "display_data"
    }
   ],
   "source": [
    "# Another to way to Check whether residual is normally distributed\n",
    "plt.figure(figsize=(10,8))\n",
    "stats.probplot(diff,plot=plt,dist='norm')\n",
    "plt.show()"
   ]
  },
  {
   "cell_type": "markdown",
   "metadata": {},
   "source": [
    "## Shapiro Wilk test for normality - If the test statistics is not significant then population is normally distributed"
   ]
  },
  {
   "cell_type": "code",
   "execution_count": 27,
   "metadata": {},
   "outputs": [
    {
     "data": {
      "text/plain": [
       "(0.9909620881080627, 0.16246125102043152)"
      ]
     },
     "execution_count": 27,
     "metadata": {},
     "output_type": "execute_result"
    }
   ],
   "source": [
    "stats.shapiro(diff)"
   ]
  },
  {
   "cell_type": "code",
   "execution_count": 28,
   "metadata": {},
   "outputs": [
    {
     "data": {
      "text/plain": [
       "Ttest_indResult(statistic=2.2379997236999936, pvalue=0.025698901712347507)"
      ]
     },
     "execution_count": 28,
     "metadata": {},
     "output_type": "execute_result"
    }
   ],
   "source": [
    "# Since residual is normally distributed , we can perform t test\n",
    "stats.ttest_ind(sample_01['cnt'],sample_02['cnt'])"
   ]
  },
  {
   "cell_type": "code",
   "execution_count": null,
   "metadata": {
    "collapsed": true
   },
   "outputs": [],
   "source": []
  },
  {
   "cell_type": "markdown",
   "metadata": {},
   "source": [
    "# Conclusion: Number of bike share doesn't have influence from WORKING day vs NON WORKING day"
   ]
  },
  {
   "cell_type": "code",
   "execution_count": 29,
   "metadata": {},
   "outputs": [
    {
     "data": {
      "image/png": "[encoded data removed]",
      "text/plain": [
       "<Figure size 1080x360 with 1 Axes>"
      ]
     },
     "metadata": {},
     "output_type": "display_data"
    }
   ],
   "source": [
    "_=bike_sharing_data.boxplot(column='temp',figsize=(15,5))"
   ]
  },
  {
   "cell_type": "code",
   "execution_count": 30,
   "metadata": {
    "collapsed": true
   },
   "outputs": [],
   "source": [
    "# Divide dataset based upon temp , True for Temp above mean and False otherwise\n",
    "bike_sharing_data['temp_category']=bike_sharing_data['temp']>bike_sharing_data.temp.mean()"
   ]
  },
  {
   "cell_type": "code",
   "execution_count": 31,
   "metadata": {},
   "outputs": [
    {
     "data": {
      "text/html": [
       "<div>\n",
       "<style scoped>\n",
       "    .dataframe tbody tr th:only-of-type {\n",
       "        vertical-align: middle;\n",
       "    }\n",
       "\n",
       "    .dataframe tbody tr th {\n",
       "        vertical-align: top;\n",
       "    }\n",
       "\n",
       "    .dataframe thead th {\n",
       "        text-align: right;\n",
       "    }\n",
       "</style>\n",
       "<table border=\"1\" class=\"dataframe\">\n",
       "  <thead>\n",
       "    <tr style=\"text-align: right;\">\n",
       "      <th></th>\n",
       "      <th>season</th>\n",
       "      <th>mnth</th>\n",
       "      <th>holiday</th>\n",
       "      <th>workingday</th>\n",
       "      <th>weathersit</th>\n",
       "      <th>temp</th>\n",
       "      <th>cnt</th>\n",
       "      <th>temp_category</th>\n",
       "    </tr>\n",
       "  </thead>\n",
       "  <tbody>\n",
       "    <tr>\n",
       "      <th>530</th>\n",
       "      <td>2</td>\n",
       "      <td>6</td>\n",
       "      <td>0</td>\n",
       "      <td>1</td>\n",
       "      <td>1</td>\n",
       "      <td>0.648333</td>\n",
       "      <td>7363</td>\n",
       "      <td>True</td>\n",
       "    </tr>\n",
       "    <tr>\n",
       "      <th>342</th>\n",
       "      <td>4</td>\n",
       "      <td>12</td>\n",
       "      <td>0</td>\n",
       "      <td>1</td>\n",
       "      <td>1</td>\n",
       "      <td>0.290833</td>\n",
       "      <td>3620</td>\n",
       "      <td>False</td>\n",
       "    </tr>\n",
       "    <tr>\n",
       "      <th>88</th>\n",
       "      <td>2</td>\n",
       "      <td>3</td>\n",
       "      <td>0</td>\n",
       "      <td>1</td>\n",
       "      <td>2</td>\n",
       "      <td>0.300000</td>\n",
       "      <td>1536</td>\n",
       "      <td>False</td>\n",
       "    </tr>\n",
       "    <tr>\n",
       "      <th>715</th>\n",
       "      <td>4</td>\n",
       "      <td>12</td>\n",
       "      <td>0</td>\n",
       "      <td>0</td>\n",
       "      <td>2</td>\n",
       "      <td>0.362500</td>\n",
       "      <td>3786</td>\n",
       "      <td>False</td>\n",
       "    </tr>\n",
       "    <tr>\n",
       "      <th>246</th>\n",
       "      <td>3</td>\n",
       "      <td>9</td>\n",
       "      <td>0</td>\n",
       "      <td>0</td>\n",
       "      <td>1</td>\n",
       "      <td>0.709167</td>\n",
       "      <td>4940</td>\n",
       "      <td>True</td>\n",
       "    </tr>\n",
       "    <tr>\n",
       "      <th>86</th>\n",
       "      <td>2</td>\n",
       "      <td>3</td>\n",
       "      <td>0</td>\n",
       "      <td>1</td>\n",
       "      <td>1</td>\n",
       "      <td>0.264348</td>\n",
       "      <td>2028</td>\n",
       "      <td>False</td>\n",
       "    </tr>\n",
       "    <tr>\n",
       "      <th>321</th>\n",
       "      <td>4</td>\n",
       "      <td>11</td>\n",
       "      <td>0</td>\n",
       "      <td>1</td>\n",
       "      <td>1</td>\n",
       "      <td>0.274167</td>\n",
       "      <td>3392</td>\n",
       "      <td>False</td>\n",
       "    </tr>\n",
       "    <tr>\n",
       "      <th>320</th>\n",
       "      <td>4</td>\n",
       "      <td>11</td>\n",
       "      <td>0</td>\n",
       "      <td>1</td>\n",
       "      <td>2</td>\n",
       "      <td>0.341667</td>\n",
       "      <td>3053</td>\n",
       "      <td>False</td>\n",
       "    </tr>\n",
       "    <tr>\n",
       "      <th>107</th>\n",
       "      <td>2</td>\n",
       "      <td>4</td>\n",
       "      <td>0</td>\n",
       "      <td>1</td>\n",
       "      <td>1</td>\n",
       "      <td>0.512500</td>\n",
       "      <td>3429</td>\n",
       "      <td>True</td>\n",
       "    </tr>\n",
       "    <tr>\n",
       "      <th>122</th>\n",
       "      <td>2</td>\n",
       "      <td>5</td>\n",
       "      <td>0</td>\n",
       "      <td>1</td>\n",
       "      <td>2</td>\n",
       "      <td>0.616667</td>\n",
       "      <td>4451</td>\n",
       "      <td>True</td>\n",
       "    </tr>\n",
       "  </tbody>\n",
       "</table>\n",
       "</div>"
      ],
      "text/plain": [
       "     season  mnth  holiday  workingday  weathersit      temp   cnt  \\\n",
       "530       2     6        0           1           1  0.648333  7363   \n",
       "342       4    12        0           1           1  0.290833  3620   \n",
       "88        2     3        0           1           2  0.300000  1536   \n",
       "715       4    12        0           0           2  0.362500  3786   \n",
       "246       3     9        0           0           1  0.709167  4940   \n",
       "86        2     3        0           1           1  0.264348  2028   \n",
       "321       4    11        0           1           1  0.274167  3392   \n",
       "320       4    11        0           1           2  0.341667  3053   \n",
       "107       2     4        0           1           1  0.512500  3429   \n",
       "122       2     5        0           1           2  0.616667  4451   \n",
       "\n",
       "     temp_category  \n",
       "530           True  \n",
       "342          False  \n",
       "88           False  \n",
       "715          False  \n",
       "246           True  \n",
       "86           False  \n",
       "321          False  \n",
       "320          False  \n",
       "107           True  \n",
       "122           True  "
      ]
     },
     "execution_count": 31,
     "metadata": {},
     "output_type": "execute_result"
    }
   ],
   "source": [
    "bike_sharing_data.sample(10)"
   ]
  },
  {
   "cell_type": "code",
   "execution_count": 32,
   "metadata": {},
   "outputs": [
    {
     "data": {
      "text/html": [
       "<div>\n",
       "<style scoped>\n",
       "    .dataframe tbody tr th:only-of-type {\n",
       "        vertical-align: middle;\n",
       "    }\n",
       "\n",
       "    .dataframe tbody tr th {\n",
       "        vertical-align: top;\n",
       "    }\n",
       "\n",
       "    .dataframe thead th {\n",
       "        text-align: right;\n",
       "    }\n",
       "</style>\n",
       "<table border=\"1\" class=\"dataframe\">\n",
       "  <thead>\n",
       "    <tr style=\"text-align: right;\">\n",
       "      <th></th>\n",
       "      <th>count</th>\n",
       "      <th>mean</th>\n",
       "      <th>std</th>\n",
       "      <th>min</th>\n",
       "      <th>25%</th>\n",
       "      <th>50%</th>\n",
       "      <th>75%</th>\n",
       "      <th>max</th>\n",
       "    </tr>\n",
       "    <tr>\n",
       "      <th>temp_category</th>\n",
       "      <th></th>\n",
       "      <th></th>\n",
       "      <th></th>\n",
       "      <th></th>\n",
       "      <th></th>\n",
       "      <th></th>\n",
       "      <th></th>\n",
       "      <th></th>\n",
       "    </tr>\n",
       "  </thead>\n",
       "  <tbody>\n",
       "    <tr>\n",
       "      <th>False</th>\n",
       "      <td>364.0</td>\n",
       "      <td>3387.664835</td>\n",
       "      <td>1691.340133</td>\n",
       "      <td>22.0</td>\n",
       "      <td>1964.5</td>\n",
       "      <td>3301.0</td>\n",
       "      <td>4513.5</td>\n",
       "      <td>8090.0</td>\n",
       "    </tr>\n",
       "    <tr>\n",
       "      <th>True</th>\n",
       "      <td>367.0</td>\n",
       "      <td>5611.904632</td>\n",
       "      <td>1475.698228</td>\n",
       "      <td>1115.0</td>\n",
       "      <td>4548.5</td>\n",
       "      <td>5336.0</td>\n",
       "      <td>6897.5</td>\n",
       "      <td>8714.0</td>\n",
       "    </tr>\n",
       "  </tbody>\n",
       "</table>\n",
       "</div>"
      ],
      "text/plain": [
       "               count         mean          std     min     25%     50%  \\\n",
       "temp_category                                                            \n",
       "False          364.0  3387.664835  1691.340133    22.0  1964.5  3301.0   \n",
       "True           367.0  5611.904632  1475.698228  1115.0  4548.5  5336.0   \n",
       "\n",
       "                  75%     max  \n",
       "temp_category                  \n",
       "False          4513.5  8090.0  \n",
       "True           6897.5  8714.0  "
      ]
     },
     "execution_count": 32,
     "metadata": {},
     "output_type": "execute_result"
    }
   ],
   "source": [
    "bike_sharing_data.groupby('temp_category')['cnt'].describe()"
   ]
  },
  {
   "cell_type": "code",
   "execution_count": 33,
   "metadata": {
    "collapsed": true
   },
   "outputs": [],
   "source": [
    "#_=plt.hist(bike_sharing_data[bike_sharing_data.temp_category==False]['cnt'])"
   ]
  },
  {
   "cell_type": "code",
   "execution_count": 34,
   "metadata": {},
   "outputs": [
    {
     "data": {
      "image/png": "[encoded data removed]",
      "text/plain": [
       "<Figure size 1080x576 with 1 Axes>"
      ]
     },
     "metadata": {},
     "output_type": "display_data"
    }
   ],
   "source": [
    "_=bike_sharing_data.boxplot(column='cnt',by='temp_category',figsize=(15,8))"
   ]
  },
  {
   "cell_type": "markdown",
   "metadata": {
    "collapsed": true
   },
   "source": [
    "## Are these counts significantly different between two temperature category\n",
    "- We create 2 samples with equal numbers\n",
    "- measure SD\n",
    "- We use levene test to test significance of variance difference\n",
    "- If significantly different SD then we use Welch's t Test to find out whether two samples are significantly different"
   ]
  },
  {
   "cell_type": "code",
   "execution_count": 35,
   "metadata": {
    "collapsed": true
   },
   "outputs": [],
   "source": [
    "sample_01= bike_sharing_data[bike_sharing_data.temp_category==True]\n",
    "sample_02= bike_sharing_data[bike_sharing_data.temp_category==False]"
   ]
  },
  {
   "cell_type": "code",
   "execution_count": 36,
   "metadata": {},
   "outputs": [
    {
     "data": {
      "text/plain": [
       "((367, 8), (364, 8))"
      ]
     },
     "execution_count": 36,
     "metadata": {},
     "output_type": "execute_result"
    }
   ],
   "source": [
    "sample_01.shape, sample_02.shape"
   ]
  },
  {
   "cell_type": "code",
   "execution_count": 37,
   "metadata": {
    "collapsed": true
   },
   "outputs": [],
   "source": [
    "sample_01=sample_01.sample(sample_02.shape[0])"
   ]
  },
  {
   "cell_type": "code",
   "execution_count": 38,
   "metadata": {},
   "outputs": [
    {
     "data": {
      "text/plain": [
       "((364, 8), (364, 8))"
      ]
     },
     "execution_count": 38,
     "metadata": {},
     "output_type": "execute_result"
    }
   ],
   "source": [
    "sample_01.shape, sample_02.shape"
   ]
  },
  {
   "cell_type": "code",
   "execution_count": 39,
   "metadata": {},
   "outputs": [
    {
     "data": {
      "text/plain": [
       "LeveneResult(statistic=4.890683929001842, pvalue=0.027312767339387117)"
      ]
     },
     "execution_count": 39,
     "metadata": {},
     "output_type": "execute_result"
    }
   ],
   "source": [
    "stats.levene(sample_01.cnt,sample_02.cnt)"
   ]
  },
  {
   "cell_type": "markdown",
   "metadata": {
    "collapsed": true
   },
   "source": [
    "## Above result gives p value less than threshold of 0.05 ~5% so we have to reject NULL HYPOTHESIS , meaning samples have variances significantly different. We can rely on t Test"
   ]
  },
  {
   "cell_type": "code",
   "execution_count": 40,
   "metadata": {},
   "outputs": [
    {
     "name": "stderr",
     "output_type": "stream",
     "text": [
      "C:\\Users\\Niraj Kumar\\Anaconda3\\lib\\site-packages\\sklearn\\utils\\validation.py:475: DataConversionWarning: Data with input dtype int64 was converted to float64 by the scale function.\n",
      "  warnings.warn(msg, DataConversionWarning)\n"
     ]
    }
   ],
   "source": [
    "# Now we can check whether residuals are normally distributed\n",
    "diff = scale(np.array(sample_01.cnt) - np.array(sample_02.cnt))"
   ]
  },
  {
   "cell_type": "code",
   "execution_count": 41,
   "metadata": {},
   "outputs": [
    {
     "data": {
      "text/plain": [
       "(array([ 2.,  8., 18., 24., 60., 75., 77., 53., 30., 17.]),\n",
       " array([-3.22167011, -2.67591121, -2.1301523 , -1.5843934 , -1.0386345 ,\n",
       "        -0.4928756 ,  0.0528833 ,  0.59864221,  1.14440111,  1.69016001,\n",
       "         2.23591891]),\n",
       " <a list of 10 Patch objects>)"
      ]
     },
     "execution_count": 41,
     "metadata": {},
     "output_type": "execute_result"
    },
    {
     "data": {
      "image/png": "[encoded data removed]",
      "text/plain": [
       "<Figure size 432x288 with 1 Axes>"
      ]
     },
     "metadata": {},
     "output_type": "display_data"
    }
   ],
   "source": [
    "plt.hist(diff)"
   ]
  },
  {
   "cell_type": "code",
   "execution_count": 42,
   "metadata": {},
   "outputs": [
    {
     "data": {
      "image/png": "[encoded data removed]",
      "text/plain": [
       "<Figure size 1080x360 with 1 Axes>"
      ]
     },
     "metadata": {},
     "output_type": "display_data"
    }
   ],
   "source": [
    "# Better technique to check normal distribution of RESIDUAL is probplot\n",
    "plt.figure(figsize=(15,5))\n",
    "stats.probplot(diff,plot=plt)\n",
    "plt.show()"
   ]
  },
  {
   "cell_type": "markdown",
   "metadata": {},
   "source": [
    "# Shapiro Test: Test to check if sample is from normally distributed population\n",
    "# $W = \\frac{\\left (\\sum_{i=1}^{n} a_ix_{(i)} \\right)^2}{\\sum_{i=1}^{n} \\left(x_i - \\bar{x} \\right)^2}$  \n",
    "\n",
    "## <span style='color:red'>If W is smaller than the threshold then NULL Hypothesis that sample has come from normlly distributed population is incorrect</span>"
   ]
  },
  {
   "cell_type": "code",
   "execution_count": 43,
   "metadata": {},
   "outputs": [
    {
     "data": {
      "text/plain": [
       "(0.9929843544960022, 0.08697399497032166)"
      ]
     },
     "execution_count": 43,
     "metadata": {},
     "output_type": "execute_result"
    }
   ],
   "source": [
    "stats.shapiro(diff)"
   ]
  },
  {
   "cell_type": "markdown",
   "metadata": {},
   "source": [
    "## Above Shapiro test on residual values also indicate data spread is from Normally distributed  population"
   ]
  },
  {
   "cell_type": "code",
   "execution_count": 44,
   "metadata": {},
   "outputs": [
    {
     "data": {
      "text/plain": [
       "Ttest_indResult(statistic=18.85367820271558, pvalue=7.686795544265814e-65)"
      ]
     },
     "execution_count": 44,
     "metadata": {},
     "output_type": "execute_result"
    }
   ],
   "source": [
    "stats.ttest_ind(sample_01.cnt,sample_02.cnt)"
   ]
  },
  {
   "cell_type": "markdown",
   "metadata": {},
   "source": [
    "# <span style='color:brown'> Conclusion: Number of rides depends upon temperature values are not INSIGNIFICANTLY different in two temperature group. This means temperature influences number of rides </span>"
   ]
  },
  {
   "cell_type": "code",
   "execution_count": 45,
   "metadata": {
    "collapsed": true
   },
   "outputs": [],
   "source": [
    "desciptives, results = rp.ttest(sample_01.cnt,sample_02.cnt, equal_variances=False)"
   ]
  },
  {
   "cell_type": "markdown",
   "metadata": {},
   "source": [
    "# <span style='çolor:red'> In the above result, we carried out WELCHES T Test using Reserach Python package, WELCHES factors unequal variances </span>"
   ]
  },
  {
   "cell_type": "code",
   "execution_count": 46,
   "metadata": {},
   "outputs": [
    {
     "data": {
      "text/html": [
       "<div>\n",
       "<style scoped>\n",
       "    .dataframe tbody tr th:only-of-type {\n",
       "        vertical-align: middle;\n",
       "    }\n",
       "\n",
       "    .dataframe tbody tr th {\n",
       "        vertical-align: top;\n",
       "    }\n",
       "\n",
       "    .dataframe thead th {\n",
       "        text-align: right;\n",
       "    }\n",
       "</style>\n",
       "<table border=\"1\" class=\"dataframe\">\n",
       "  <thead>\n",
       "    <tr style=\"text-align: right;\">\n",
       "      <th></th>\n",
       "      <th>Variable</th>\n",
       "      <th>N</th>\n",
       "      <th>Mean</th>\n",
       "      <th>SD</th>\n",
       "      <th>SE</th>\n",
       "      <th>95% Conf.</th>\n",
       "      <th>Interval</th>\n",
       "    </tr>\n",
       "  </thead>\n",
       "  <tbody>\n",
       "    <tr>\n",
       "      <th>0</th>\n",
       "      <td>cnt</td>\n",
       "      <td>364.0</td>\n",
       "      <td>5605.096154</td>\n",
       "      <td>1474.613661</td>\n",
       "      <td>77.290757</td>\n",
       "      <td>5453.102285</td>\n",
       "      <td>5757.090023</td>\n",
       "    </tr>\n",
       "    <tr>\n",
       "      <th>1</th>\n",
       "      <td>cnt</td>\n",
       "      <td>364.0</td>\n",
       "      <td>3387.664835</td>\n",
       "      <td>1691.340133</td>\n",
       "      <td>88.650311</td>\n",
       "      <td>3213.332169</td>\n",
       "      <td>3561.997501</td>\n",
       "    </tr>\n",
       "    <tr>\n",
       "      <th>2</th>\n",
       "      <td>combined</td>\n",
       "      <td>728.0</td>\n",
       "      <td>4496.380495</td>\n",
       "      <td>1935.209749</td>\n",
       "      <td>71.723645</td>\n",
       "      <td>4355.570308</td>\n",
       "      <td>4637.190681</td>\n",
       "    </tr>\n",
       "  </tbody>\n",
       "</table>\n",
       "</div>"
      ],
      "text/plain": [
       "   Variable      N         Mean           SD         SE    95% Conf.  \\\n",
       "0       cnt  364.0  5605.096154  1474.613661  77.290757  5453.102285   \n",
       "1       cnt  364.0  3387.664835  1691.340133  88.650311  3213.332169   \n",
       "2  combined  728.0  4496.380495  1935.209749  71.723645  4355.570308   \n",
       "\n",
       "      Interval  \n",
       "0  5757.090023  \n",
       "1  3561.997501  \n",
       "2  4637.190681  "
      ]
     },
     "execution_count": 46,
     "metadata": {},
     "output_type": "execute_result"
    }
   ],
   "source": [
    "#results\n",
    "desciptives"
   ]
  },
  {
   "cell_type": "code",
   "execution_count": 47,
   "metadata": {},
   "outputs": [
    {
     "name": "stdout",
     "output_type": "stream",
     "text": [
      "              Welch's t-test    results\n",
      "0  Difference (cnt - cnt) =   2217.4313\n",
      "1      Degrees of freedom =    714.6910\n",
      "2                       t =     18.8537\n",
      "3   Two side test p value =      0.0000\n",
      "4  Difference < 0 p value =      1.0000\n",
      "5  Difference > 0 p value =      0.0000\n",
      "6               Cohen's d =      1.3975\n",
      "7               Hedge's g =      1.3961\n",
      "8           Glass's delta =      1.5037\n",
      "9             Pearson's r =      0.5763\n"
     ]
    }
   ],
   "source": [
    "print(results)"
   ]
  },
  {
   "cell_type": "code",
   "execution_count": null,
   "metadata": {
    "collapsed": true
   },
   "outputs": [],
   "source": []
  },
  {
   "cell_type": "code",
   "execution_count": null,
   "metadata": {
    "collapsed": true
   },
   "outputs": [],
   "source": []
  }
 ],
 "metadata": {
  "kernelspec": {
   "display_name": "Python 3",
   "language": "python",
   "name": "python3"
  },
  "language_info": {
   "codemirror_mode": {
    "name": "ipython",
    "version": 3
   },
   "file_extension": ".py",
   "mimetype": "text/x-python",
   "name": "python",
   "nbconvert_exporter": "python",
   "pygments_lexer": "ipython3",
   "version": "3.6.9"
  }
 },
 "nbformat": 4,
 "nbformat_minor": 2
}
