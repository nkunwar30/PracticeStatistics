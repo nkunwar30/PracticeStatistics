{
 "cells": [
  {
   "cell_type": "markdown",
   "metadata": {},
   "source": [
    "# ANOVA - One factor without Replication\n",
    "# watch this video : https://www.youtube.com/watch?v=JgMFhKi6f6Y\n",
    "\n",
    "## ANOVA = Analysis of Variance\n",
    "\n",
    "Sample Variance = $\\frac{\\sum_{i=1}^{n}\\left(x_i - \\bar x\\right)^2}{n-1}$\n",
    "\n",
    "Sum of Square or SS =$\\sum_{i=1}^{n}\\left(x_i - \\bar x\\right)^2$\n",
    "\n",
    "## SSC = Sum of square across columns = $\\left(N-\\right)\\sum_{i=1}^{k}\\left(\\mu_i - \\mu\\right)^2$\n",
    "## SSE = Sum of error (within groups) = $ \\sum_{i=1}^{k}\\sum_{j=1}^{N_i}\\left(x_{ij} - \\mu_i\\right)^2$\n",
    "## SST = Sum of square total = $\\sum_{i=1}^{N}\\left(x_i - \\mu\\right)^2$\n",
    "\n",
    "## $MSC = \\frac{SSC}{df_{columns}}$ and  $df_{columns} = C - 1$\n",
    "## $MSE = \\frac{SSE}{df_{error}}$ and  $df_{error} = N-C$\n",
    "## $ F_{statistics} = \\frac{MSC}{MSE}$\n",
    "\n",
    "# We find out $F_{Critical}$ value by looking into F Distribution table with $F_{\\alpha,df_C,df_E}$ as critical value to test HYPOTHESIS\n",
    "\n"
   ]
  },
  {
   "cell_type": "code",
   "execution_count": null,
   "metadata": {
    "collapsed": true
   },
   "outputs": [],
   "source": []
  },
  {
   "cell_type": "markdown",
   "metadata": {},
   "source": [
    "# <span style='color:red'> Two way ANOVA without Replication </span> = RANDOMIZED BLOCK DESIGN\n",
    "# 4 Types of Sum of Squares / Sources of Variance\n",
    "# 1) TOTAL = 2/COLUMNS/GROUPS + <span style='color:red'> 3) ROWS/BLOCKS </span> + 4/ ERROR "
   ]
  },
  {
   "cell_type": "markdown",
   "metadata": {},
   "source": [
    "# Example\n",
    "__In 2 factor ANOVA calculation we are 2 factors or dimensions through which we try to explain the overall (TOTAL) variance , this gives additional levers (2 factor) to help explainability and leave with ERROR (UNEXPLAINABLE). This helps in establishing HYPOTHESIS TEST.__\n",
    "\n",
    "\\begin{matrix}\n",
    " &      &Sydney  &Brisbane  &Melbourne \\\\ \n",
    " &      &75  &75  &90 \\\\ \n",
    " &Shopper 1&70  &70  &70 \\\\ \n",
    " &Shopper 3&50  &55  &75 \\\\ \n",
    " &Shopper 4&65  &60  &85 \\\\ \n",
    " &Shopper 5&80  &65  &80 \\\\ \n",
    " &Shopper 6&65  &65  &65 \n",
    "\\end{matrix}\n",
    "\n",
    "## How each data point is deviated away from Overall Mean $\\bar X$. Explainability of that comes from (a) variation of rating across cities (b) variation of rating across shoppers\n",
    "\n",
    "## In one way ANOVA (Single factor), SST (Sum of Sqaure Total) = SSC + (SSE)\n",
    "## In two way ANOVA (Single factor), SST (Sum of Sqaure Total) = SSC + (SSB+SSE)\n",
    "## In the end SSC is compared to SSE, so the smaller SSE is, SSC can claim a larger part of SST.\n",
    "\n",
    "## SSB = Take each row/block mean, take difference between block means and overall mean, square them and add them up\n",
    "## SSE = SST-SSC-SSB (How much overall SSE did SSB account for)"
   ]
  },
  {
   "cell_type": "markdown",
   "metadata": {
    "collapsed": true
   },
   "source": [
    "## <span style='color:blue'> Interested to know the relationship between block variance and error variance </span>\n",
    "\n",
    "## $\\frac{SSB}{SSE}$ ==> divide by df ==> $\\frac{MSB}{MSE}$\n",
    "## Since this is ratio of two variances, it will be an F-ratio and follow F-distribution\n",
    "\n",
    "## The whole idea of 2 way ANOVA is to testing stronger by increase explainability. With SSB introduction we eat up error from SSE (original) and make SSE smaller. The ratio MSC by MSE becomes more sensistive to establish test hypothesis, whether group means are significant or not."
   ]
  },
  {
   "cell_type": "markdown",
   "metadata": {
    "collapsed": true
   },
   "source": [
    "We are interested for difference in the city score. SST score reflects upon total differences from the overall mean. Out of this difference of city factors and error contributes. If we could factor blocks then will help reduce overall error and __city difference factor__ will be more prominent.\n"
   ]
  },
  {
   "cell_type": "markdown",
   "metadata": {},
   "source": [
    "# <span style='color:red'>Formula for 2 way block ANOVA</span>\n",
    "\n",
    "## SSC = Sum of Squares (columns/treatments) , $df_{columns}=C-1$, MSC = $\\frac{SSC}{df_{columns}}$\n",
    "## SSB = Sum of Squares (Blocks), $df_{blocks} = B - 1, MSB =\\frac{SSB}{df_{blocks}}$\n",
    "## SSE = Sum of Squares (Within/Error), $df_{error}=(C-1)(B-1), MSE = \\frac{SSE}{df_{error}}$\n",
    "## SST = Sum of Squares (Total), $df_{total}=N-1, F = \\frac{MSC}{MSE}$"
   ]
  },
  {
   "cell_type": "markdown",
   "metadata": {
    "collapsed": true
   },
   "source": [
    "## $F_{block}=\\frac{MSB}{MSE}$\n",
    "## $F_{column}=\\frac{MSC}{MSE}$\n",
    "\n",
    "# By reducing Error component, F values will be more prominent and sensitive in establishing HYPOTHESIS"
   ]
  },
  {
   "cell_type": "markdown",
   "metadata": {
    "collapsed": true
   },
   "source": [
    "# ANOVA is about teasing apart or partitioning the total/overall variance into different parts;Assigning parts of overall variance to different sources\n",
    "# One of the source is always ERROR (Unexplained)"
   ]
  },
  {
   "cell_type": "markdown",
   "metadata": {
    "collapsed": true
   },
   "source": [
    "# <span style='color:green'> ANOVA - Two factor with Replication</span>"
   ]
  },
  {
   "cell_type": "markdown",
   "metadata": {
    "collapsed": true
   },
   "source": [
    "# <span style='color:red'>Practice using Pluralsight Bike Example</span>\n",
    "- Perform ANOVA Test (1 factor) with weather category and testing bike rides"
   ]
  },
  {
   "cell_type": "code",
   "execution_count": 6,
   "metadata": {},
   "outputs": [],
   "source": [
    "import pandas as pd\n",
    "import numpy as np\n",
    "import matplotlib.pyplot as plt\n",
    "from scipy import stats\n",
    "import researchpy as rp\n",
    "from statsmodels.formula.api import ols"
   ]
  },
  {
   "cell_type": "code",
   "execution_count": 11,
   "metadata": {},
   "outputs": [],
   "source": [
    "bike_sharing_data = pd.read_csv('datasets/bike_sharing_data_processed.csv')"
   ]
  },
  {
   "cell_type": "code",
   "execution_count": 12,
   "metadata": {},
   "outputs": [
    {
     "data": {
      "text/html": [
       "<div>\n",
       "<style scoped>\n",
       "    .dataframe tbody tr th:only-of-type {\n",
       "        vertical-align: middle;\n",
       "    }\n",
       "\n",
       "    .dataframe tbody tr th {\n",
       "        vertical-align: top;\n",
       "    }\n",
       "\n",
       "    .dataframe thead th {\n",
       "        text-align: right;\n",
       "    }\n",
       "</style>\n",
       "<table border=\"1\" class=\"dataframe\">\n",
       "  <thead>\n",
       "    <tr style=\"text-align: right;\">\n",
       "      <th></th>\n",
       "      <th>season</th>\n",
       "      <th>mnth</th>\n",
       "      <th>holiday</th>\n",
       "      <th>workingday</th>\n",
       "      <th>weathersit</th>\n",
       "      <th>temp</th>\n",
       "      <th>cnt</th>\n",
       "    </tr>\n",
       "  </thead>\n",
       "  <tbody>\n",
       "    <tr>\n",
       "      <th>0</th>\n",
       "      <td>1</td>\n",
       "      <td>1</td>\n",
       "      <td>0</td>\n",
       "      <td>0</td>\n",
       "      <td>2</td>\n",
       "      <td>0.344167</td>\n",
       "      <td>985</td>\n",
       "    </tr>\n",
       "    <tr>\n",
       "      <th>1</th>\n",
       "      <td>1</td>\n",
       "      <td>1</td>\n",
       "      <td>0</td>\n",
       "      <td>0</td>\n",
       "      <td>2</td>\n",
       "      <td>0.363478</td>\n",
       "      <td>801</td>\n",
       "    </tr>\n",
       "    <tr>\n",
       "      <th>2</th>\n",
       "      <td>1</td>\n",
       "      <td>1</td>\n",
       "      <td>0</td>\n",
       "      <td>1</td>\n",
       "      <td>1</td>\n",
       "      <td>0.196364</td>\n",
       "      <td>1349</td>\n",
       "    </tr>\n",
       "    <tr>\n",
       "      <th>3</th>\n",
       "      <td>1</td>\n",
       "      <td>1</td>\n",
       "      <td>0</td>\n",
       "      <td>1</td>\n",
       "      <td>1</td>\n",
       "      <td>0.200000</td>\n",
       "      <td>1562</td>\n",
       "    </tr>\n",
       "    <tr>\n",
       "      <th>4</th>\n",
       "      <td>1</td>\n",
       "      <td>1</td>\n",
       "      <td>0</td>\n",
       "      <td>1</td>\n",
       "      <td>1</td>\n",
       "      <td>0.226957</td>\n",
       "      <td>1600</td>\n",
       "    </tr>\n",
       "  </tbody>\n",
       "</table>\n",
       "</div>"
      ],
      "text/plain": [
       "   season  mnth  holiday  workingday  weathersit      temp   cnt\n",
       "0       1     1        0           0           2  0.344167   985\n",
       "1       1     1        0           0           2  0.363478   801\n",
       "2       1     1        0           1           1  0.196364  1349\n",
       "3       1     1        0           1           1  0.200000  1562\n",
       "4       1     1        0           1           1  0.226957  1600"
      ]
     },
     "execution_count": 12,
     "metadata": {},
     "output_type": "execute_result"
    }
   ],
   "source": [
    "bike_sharing_data.head()"
   ]
  },
  {
   "cell_type": "code",
   "execution_count": null,
   "metadata": {},
   "outputs": [],
   "source": []
  },
  {
   "cell_type": "code",
   "execution_count": 13,
   "metadata": {},
   "outputs": [
    {
     "data": {
      "text/plain": [
       "(731, 7)"
      ]
     },
     "execution_count": 13,
     "metadata": {},
     "output_type": "execute_result"
    }
   ],
   "source": [
    "bike_sharing_data.shape"
   ]
  },
  {
   "cell_type": "code",
   "execution_count": 14,
   "metadata": {},
   "outputs": [
    {
     "data": {
      "text/plain": [
       "array([2, 1, 3], dtype=int64)"
      ]
     },
     "execution_count": 14,
     "metadata": {},
     "output_type": "execute_result"
    }
   ],
   "source": [
    "bike_sharing_data.weathersit.unique()"
   ]
  },
  {
   "cell_type": "code",
   "execution_count": 19,
   "metadata": {},
   "outputs": [
    {
     "data": {
      "text/html": [
       "<div>\n",
       "<style scoped>\n",
       "    .dataframe tbody tr th:only-of-type {\n",
       "        vertical-align: middle;\n",
       "    }\n",
       "\n",
       "    .dataframe tbody tr th {\n",
       "        vertical-align: top;\n",
       "    }\n",
       "\n",
       "    .dataframe thead th {\n",
       "        text-align: right;\n",
       "    }\n",
       "</style>\n",
       "<table border=\"1\" class=\"dataframe\">\n",
       "  <thead>\n",
       "    <tr style=\"text-align: right;\">\n",
       "      <th></th>\n",
       "      <th>count</th>\n",
       "      <th>mean</th>\n",
       "      <th>std</th>\n",
       "      <th>min</th>\n",
       "      <th>25%</th>\n",
       "      <th>50%</th>\n",
       "      <th>75%</th>\n",
       "      <th>max</th>\n",
       "    </tr>\n",
       "    <tr>\n",
       "      <th>weathersit</th>\n",
       "      <th></th>\n",
       "      <th></th>\n",
       "      <th></th>\n",
       "      <th></th>\n",
       "      <th></th>\n",
       "      <th></th>\n",
       "      <th></th>\n",
       "      <th></th>\n",
       "    </tr>\n",
       "  </thead>\n",
       "  <tbody>\n",
       "    <tr>\n",
       "      <th>1</th>\n",
       "      <td>463.0</td>\n",
       "      <td>4876.786177</td>\n",
       "      <td>1879.483989</td>\n",
       "      <td>431.0</td>\n",
       "      <td>3636.5</td>\n",
       "      <td>4844.0</td>\n",
       "      <td>6458.5</td>\n",
       "      <td>8714.0</td>\n",
       "    </tr>\n",
       "    <tr>\n",
       "      <th>2</th>\n",
       "      <td>247.0</td>\n",
       "      <td>4035.862348</td>\n",
       "      <td>1809.109918</td>\n",
       "      <td>605.0</td>\n",
       "      <td>2674.5</td>\n",
       "      <td>4040.0</td>\n",
       "      <td>5257.5</td>\n",
       "      <td>8362.0</td>\n",
       "    </tr>\n",
       "    <tr>\n",
       "      <th>3</th>\n",
       "      <td>21.0</td>\n",
       "      <td>1803.285714</td>\n",
       "      <td>1240.284449</td>\n",
       "      <td>22.0</td>\n",
       "      <td>705.0</td>\n",
       "      <td>1817.0</td>\n",
       "      <td>2424.0</td>\n",
       "      <td>4639.0</td>\n",
       "    </tr>\n",
       "  </tbody>\n",
       "</table>\n",
       "</div>"
      ],
      "text/plain": [
       "            count         mean          std    min     25%     50%     75%  \\\n",
       "weathersit                                                                   \n",
       "1           463.0  4876.786177  1879.483989  431.0  3636.5  4844.0  6458.5   \n",
       "2           247.0  4035.862348  1809.109918  605.0  2674.5  4040.0  5257.5   \n",
       "3            21.0  1803.285714  1240.284449   22.0   705.0  1817.0  2424.0   \n",
       "\n",
       "               max  \n",
       "weathersit          \n",
       "1           8714.0  \n",
       "2           8362.0  \n",
       "3           4639.0  "
      ]
     },
     "execution_count": 19,
     "metadata": {},
     "output_type": "execute_result"
    }
   ],
   "source": [
    "bike_sharing_data.groupby(by='weathersit')['cnt'].describe()"
   ]
  },
  {
   "cell_type": "markdown",
   "metadata": {},
   "source": [
    "# Descriptive Analysis: Boxplot Test"
   ]
  },
  {
   "cell_type": "code",
   "execution_count": 21,
   "metadata": {},
   "outputs": [
    {
     "data": {
      "image/png": "[encoded data removed]",
      "text/plain": [
       "<Figure size 1080x576 with 1 Axes>"
      ]
     },
     "metadata": {
      "needs_background": "light"
     },
     "output_type": "display_data"
    }
   ],
   "source": [
    "_=bike_sharing_data.boxplot(column=['cnt'], by='weathersit',figsize=(15,8))"
   ]
  },
  {
   "cell_type": "markdown",
   "metadata": {},
   "source": [
    "# One way ANOVA test"
   ]
  },
  {
   "cell_type": "code",
   "execution_count": 22,
   "metadata": {},
   "outputs": [
    {
     "data": {
      "text/plain": [
       "F_onewayResult(statistic=40.06604492024684, pvalue=3.106317270053755e-17)"
      ]
     },
     "execution_count": 22,
     "metadata": {},
     "output_type": "execute_result"
    }
   ],
   "source": [
    "stats.f_oneway(bike_sharing_data.cnt[bike_sharing_data.weathersit==1],\n",
    "               bike_sharing_data.cnt[bike_sharing_data.weathersit==2],\n",
    "               bike_sharing_data.cnt[bike_sharing_data.weathersit==3])"
   ]
  },
  {
   "cell_type": "markdown",
   "metadata": {},
   "source": [
    "## <span style='color:red'>Conclusion: P Value is very tiny, meaning weather condition does play a role in number of bike rides</span>\n",
    "## Anaova test gives us the indication that means are different but doesn't tell us which specific group's means compared with each other are different.\n",
    "\n",
    "## TUKEY'S HONEST SIGNIFICANCE DIFFERENCE TEST (HSD)\n",
    "\n",
    "# Play this video for Tukey's HSD https://www.youtube.com/watch?v=zQr190cacC0"
   ]
  },
  {
   "cell_type": "code",
   "execution_count": 23,
   "metadata": {},
   "outputs": [],
   "source": [
    "from statsmodels.stats.multicomp import MultiComparison"
   ]
  },
  {
   "cell_type": "code",
   "execution_count": 27,
   "metadata": {},
   "outputs": [
    {
     "name": "stdout",
     "output_type": "stream",
     "text": [
      "    Multiple Comparison of Means - Tukey HSD, FWER=0.05    \n",
      "===========================================================\n",
      "group1 group2  meandiff  p-adj   lower      upper    reject\n",
      "-----------------------------------------------------------\n",
      "     1      2  -840.9238 0.001  -1181.639  -500.2086   True\n",
      "     1      3 -3073.5005 0.001 -4038.2706 -2108.7304   True\n",
      "     2      3 -2232.5766 0.001 -3215.4794 -1249.6738   True\n",
      "-----------------------------------------------------------\n"
     ]
    }
   ],
   "source": [
    "mul_com = MultiComparison(bike_sharing_data.cnt,bike_sharing_data.weathersit)\n",
    "mul_result = mul_result = mul_com.tukeyhsd()\n",
    "print(mul_result)"
   ]
  },
  {
   "cell_type": "markdown",
   "metadata": {},
   "source": [
    "# <span style='color:red'> Implementing 2 Way ANOVA Analysis </span>\n",
    "__Influence of 2 categorical variables on one dependent continuous variable  \n",
    "Weather and Seasons influences Ride Count ?__"
   ]
  },
  {
   "cell_type": "code",
   "execution_count": 28,
   "metadata": {},
   "outputs": [
    {
     "data": {
      "text/html": [
       "<div>\n",
       "<style scoped>\n",
       "    .dataframe tbody tr th:only-of-type {\n",
       "        vertical-align: middle;\n",
       "    }\n",
       "\n",
       "    .dataframe tbody tr th {\n",
       "        vertical-align: top;\n",
       "    }\n",
       "\n",
       "    .dataframe thead th {\n",
       "        text-align: right;\n",
       "    }\n",
       "</style>\n",
       "<table border=\"1\" class=\"dataframe\">\n",
       "  <thead>\n",
       "    <tr style=\"text-align: right;\">\n",
       "      <th></th>\n",
       "      <th>season</th>\n",
       "      <th>mnth</th>\n",
       "      <th>holiday</th>\n",
       "      <th>workingday</th>\n",
       "      <th>weathersit</th>\n",
       "      <th>temp</th>\n",
       "      <th>cnt</th>\n",
       "    </tr>\n",
       "  </thead>\n",
       "  <tbody>\n",
       "    <tr>\n",
       "      <th>0</th>\n",
       "      <td>1</td>\n",
       "      <td>1</td>\n",
       "      <td>0</td>\n",
       "      <td>0</td>\n",
       "      <td>2</td>\n",
       "      <td>0.344167</td>\n",
       "      <td>985</td>\n",
       "    </tr>\n",
       "    <tr>\n",
       "      <th>1</th>\n",
       "      <td>1</td>\n",
       "      <td>1</td>\n",
       "      <td>0</td>\n",
       "      <td>0</td>\n",
       "      <td>2</td>\n",
       "      <td>0.363478</td>\n",
       "      <td>801</td>\n",
       "    </tr>\n",
       "    <tr>\n",
       "      <th>2</th>\n",
       "      <td>1</td>\n",
       "      <td>1</td>\n",
       "      <td>0</td>\n",
       "      <td>1</td>\n",
       "      <td>1</td>\n",
       "      <td>0.196364</td>\n",
       "      <td>1349</td>\n",
       "    </tr>\n",
       "    <tr>\n",
       "      <th>3</th>\n",
       "      <td>1</td>\n",
       "      <td>1</td>\n",
       "      <td>0</td>\n",
       "      <td>1</td>\n",
       "      <td>1</td>\n",
       "      <td>0.200000</td>\n",
       "      <td>1562</td>\n",
       "    </tr>\n",
       "    <tr>\n",
       "      <th>4</th>\n",
       "      <td>1</td>\n",
       "      <td>1</td>\n",
       "      <td>0</td>\n",
       "      <td>1</td>\n",
       "      <td>1</td>\n",
       "      <td>0.226957</td>\n",
       "      <td>1600</td>\n",
       "    </tr>\n",
       "  </tbody>\n",
       "</table>\n",
       "</div>"
      ],
      "text/plain": [
       "   season  mnth  holiday  workingday  weathersit      temp   cnt\n",
       "0       1     1        0           0           2  0.344167   985\n",
       "1       1     1        0           0           2  0.363478   801\n",
       "2       1     1        0           1           1  0.196364  1349\n",
       "3       1     1        0           1           1  0.200000  1562\n",
       "4       1     1        0           1           1  0.226957  1600"
      ]
     },
     "execution_count": 28,
     "metadata": {},
     "output_type": "execute_result"
    }
   ],
   "source": [
    "bike_sharing_data.boxplot(column=[['weatherits'],['cnt']],by=(['weather']))"
   ]
  },
  {
   "cell_type": "code",
   "execution_count": null,
   "metadata": {},
   "outputs": [],
   "source": []
  },
  {
   "cell_type": "code",
   "execution_count": null,
   "metadata": {},
   "outputs": [],
   "source": []
  },
  {
   "cell_type": "code",
   "execution_count": null,
   "metadata": {},
   "outputs": [],
   "source": []
  },
  {
   "cell_type": "code",
   "execution_count": null,
   "metadata": {},
   "outputs": [],
   "source": []
  },
  {
   "cell_type": "code",
   "execution_count": null,
   "metadata": {},
   "outputs": [],
   "source": []
  },
  {
   "cell_type": "code",
   "execution_count": null,
   "metadata": {},
   "outputs": [],
   "source": []
  },
  {
   "cell_type": "code",
   "execution_count": null,
   "metadata": {},
   "outputs": [],
   "source": []
  },
  {
   "cell_type": "code",
   "execution_count": null,
   "metadata": {},
   "outputs": [],
   "source": []
  },
  {
   "cell_type": "code",
   "execution_count": null,
   "metadata": {
    "collapsed": true
   },
   "outputs": [],
   "source": []
  }
 ],
 "metadata": {
  "kernelspec": {
   "display_name": "Python 3",
   "language": "python",
   "name": "python3"
  },
  "language_info": {
   "codemirror_mode": {
    "name": "ipython",
    "version": 3
   },
   "file_extension": ".py",
   "mimetype": "text/x-python",
   "name": "python",
   "nbconvert_exporter": "python",
   "pygments_lexer": "ipython3",
   "version": "3.8.8"
  }
 },
 "nbformat": 4,
 "nbformat_minor": 2
}
