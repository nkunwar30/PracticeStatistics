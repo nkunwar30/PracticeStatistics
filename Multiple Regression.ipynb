{
 "cells": [
  {
   "cell_type": "markdown",
   "id": "12886cd0",
   "metadata": {},
   "source": [
    "# <span style='color:blue'>Install Yellowbrick python package that extends Scikit-learn API with visual analysis and diagnostic tool</span>\n",
    "# making change \n",
    "\n",
    "# Making change - test merge conflict"
   ]
  },
  {
   "cell_type": "code",
   "execution_count": 1,
   "id": "2aee9e2c",
   "metadata": {},
   "outputs": [],
   "source": [
    "#!pip install yellowbrick ==> Ran into access issue so installed from ANACONCA Command Prompt"
   ]
  },
  {
   "cell_type": "code",
   "execution_count": 2,
   "id": "2f0a2b1a",
   "metadata": {},
   "outputs": [],
   "source": [
    "import pandas as pd\n",
    "import numpy as np\n",
    "import matplotlib.pyplot as plt"
   ]
  },
  {
   "cell_type": "code",
   "execution_count": 3,
   "id": "60b5bb8b",
   "metadata": {},
   "outputs": [],
   "source": [
    "house_data = pd.read_csv('datasets/house_data_processed.csv')"
   ]
  },
  {
   "cell_type": "code",
   "execution_count": 4,
   "id": "e07b2a21",
   "metadata": {},
   "outputs": [
    {
     "data": {
      "text/html": [
       "<div>\n",
       "<style scoped>\n",
       "    .dataframe tbody tr th:only-of-type {\n",
       "        vertical-align: middle;\n",
       "    }\n",
       "\n",
       "    .dataframe tbody tr th {\n",
       "        vertical-align: top;\n",
       "    }\n",
       "\n",
       "    .dataframe thead th {\n",
       "        text-align: right;\n",
       "    }\n",
       "</style>\n",
       "<table border=\"1\" class=\"dataframe\">\n",
       "  <thead>\n",
       "    <tr style=\"text-align: right;\">\n",
       "      <th></th>\n",
       "      <th>price</th>\n",
       "      <th>bedrooms</th>\n",
       "      <th>bathrooms</th>\n",
       "      <th>sqft_living</th>\n",
       "      <th>sqft_lot</th>\n",
       "      <th>floors</th>\n",
       "      <th>waterfront</th>\n",
       "      <th>view</th>\n",
       "      <th>condition</th>\n",
       "      <th>grade</th>\n",
       "      <th>sqft_above</th>\n",
       "      <th>sqft_basement</th>\n",
       "      <th>sqft_living15</th>\n",
       "      <th>sqft_lot15</th>\n",
       "      <th>house_age</th>\n",
       "      <th>renovated</th>\n",
       "    </tr>\n",
       "  </thead>\n",
       "  <tbody>\n",
       "    <tr>\n",
       "      <th>0</th>\n",
       "      <td>221900.0</td>\n",
       "      <td>3</td>\n",
       "      <td>1.00</td>\n",
       "      <td>1180</td>\n",
       "      <td>5650</td>\n",
       "      <td>1.0</td>\n",
       "      <td>0</td>\n",
       "      <td>0</td>\n",
       "      <td>3</td>\n",
       "      <td>7</td>\n",
       "      <td>1180</td>\n",
       "      <td>0</td>\n",
       "      <td>1340</td>\n",
       "      <td>5650</td>\n",
       "      <td>59</td>\n",
       "      <td>0</td>\n",
       "    </tr>\n",
       "    <tr>\n",
       "      <th>1</th>\n",
       "      <td>538000.0</td>\n",
       "      <td>3</td>\n",
       "      <td>2.25</td>\n",
       "      <td>2570</td>\n",
       "      <td>7242</td>\n",
       "      <td>2.0</td>\n",
       "      <td>0</td>\n",
       "      <td>0</td>\n",
       "      <td>3</td>\n",
       "      <td>7</td>\n",
       "      <td>2170</td>\n",
       "      <td>400</td>\n",
       "      <td>1690</td>\n",
       "      <td>7639</td>\n",
       "      <td>63</td>\n",
       "      <td>1</td>\n",
       "    </tr>\n",
       "    <tr>\n",
       "      <th>2</th>\n",
       "      <td>180000.0</td>\n",
       "      <td>2</td>\n",
       "      <td>1.00</td>\n",
       "      <td>770</td>\n",
       "      <td>10000</td>\n",
       "      <td>1.0</td>\n",
       "      <td>0</td>\n",
       "      <td>0</td>\n",
       "      <td>3</td>\n",
       "      <td>6</td>\n",
       "      <td>770</td>\n",
       "      <td>0</td>\n",
       "      <td>2720</td>\n",
       "      <td>8062</td>\n",
       "      <td>82</td>\n",
       "      <td>0</td>\n",
       "    </tr>\n",
       "    <tr>\n",
       "      <th>3</th>\n",
       "      <td>604000.0</td>\n",
       "      <td>4</td>\n",
       "      <td>3.00</td>\n",
       "      <td>1960</td>\n",
       "      <td>5000</td>\n",
       "      <td>1.0</td>\n",
       "      <td>0</td>\n",
       "      <td>0</td>\n",
       "      <td>5</td>\n",
       "      <td>7</td>\n",
       "      <td>1050</td>\n",
       "      <td>910</td>\n",
       "      <td>1360</td>\n",
       "      <td>5000</td>\n",
       "      <td>49</td>\n",
       "      <td>0</td>\n",
       "    </tr>\n",
       "    <tr>\n",
       "      <th>4</th>\n",
       "      <td>510000.0</td>\n",
       "      <td>3</td>\n",
       "      <td>2.00</td>\n",
       "      <td>1680</td>\n",
       "      <td>8080</td>\n",
       "      <td>1.0</td>\n",
       "      <td>0</td>\n",
       "      <td>0</td>\n",
       "      <td>3</td>\n",
       "      <td>8</td>\n",
       "      <td>1680</td>\n",
       "      <td>0</td>\n",
       "      <td>1800</td>\n",
       "      <td>7503</td>\n",
       "      <td>28</td>\n",
       "      <td>0</td>\n",
       "    </tr>\n",
       "  </tbody>\n",
       "</table>\n",
       "</div>"
      ],
      "text/plain": [
       "      price  bedrooms  bathrooms  sqft_living  sqft_lot  floors  waterfront  \\\n",
       "0  221900.0         3       1.00         1180      5650     1.0           0   \n",
       "1  538000.0         3       2.25         2570      7242     2.0           0   \n",
       "2  180000.0         2       1.00          770     10000     1.0           0   \n",
       "3  604000.0         4       3.00         1960      5000     1.0           0   \n",
       "4  510000.0         3       2.00         1680      8080     1.0           0   \n",
       "\n",
       "   view  condition  grade  sqft_above  sqft_basement  sqft_living15  \\\n",
       "0     0          3      7        1180              0           1340   \n",
       "1     0          3      7        2170            400           1690   \n",
       "2     0          3      6         770              0           2720   \n",
       "3     0          5      7        1050            910           1360   \n",
       "4     0          3      8        1680              0           1800   \n",
       "\n",
       "   sqft_lot15  house_age  renovated  \n",
       "0        5650         59          0  \n",
       "1        7639         63          1  \n",
       "2        8062         82          0  \n",
       "3        5000         49          0  \n",
       "4        7503         28          0  "
      ]
     },
     "execution_count": 4,
     "metadata": {},
     "output_type": "execute_result"
    }
   ],
   "source": [
    "house_data.head()"
   ]
  },
  {
   "cell_type": "code",
   "execution_count": 5,
   "id": "37fe45c2",
   "metadata": {},
   "outputs": [
    {
     "data": {
      "text/plain": [
       "(21613, 16)"
      ]
     },
     "execution_count": 5,
     "metadata": {},
     "output_type": "execute_result"
    }
   ],
   "source": [
    "house_data.shape"
   ]
  },
  {
   "cell_type": "code",
   "execution_count": 6,
   "id": "4ce807c6",
   "metadata": {},
   "outputs": [],
   "source": [
    "target=house_data['price']\n",
    "features=house_data.drop('price',axis=1)"
   ]
  },
  {
   "cell_type": "code",
   "execution_count": 7,
   "id": "81cf4f46",
   "metadata": {},
   "outputs": [
    {
     "data": {
      "text/plain": [
       "Index(['bedrooms', 'bathrooms', 'sqft_living', 'sqft_lot', 'floors',\n",
       "       'waterfront', 'view', 'condition', 'grade', 'sqft_above',\n",
       "       'sqft_basement', 'sqft_living15', 'sqft_lot15', 'house_age',\n",
       "       'renovated'],\n",
       "      dtype='object')"
      ]
     },
     "execution_count": 7,
     "metadata": {},
     "output_type": "execute_result"
    }
   ],
   "source": [
    "features.columns"
   ]
  },
  {
   "cell_type": "code",
   "execution_count": 8,
   "id": "260efde2",
   "metadata": {},
   "outputs": [],
   "source": [
    "from yellowbrick.target import FeatureCorrelation"
   ]
  },
  {
   "cell_type": "markdown",
   "id": "6866e705",
   "metadata": {},
   "source": [
    "# <span style='color:blue'>Correlation value ranges between -1 to +1 between two variables in a feature set</span>"
   ]
  },
  {
   "cell_type": "code",
   "execution_count": 9,
   "id": "7d824310",
   "metadata": {},
   "outputs": [],
   "source": [
    "feature_names=list(features.columns)"
   ]
  },
  {
   "cell_type": "code",
   "execution_count": 10,
   "id": "bd8f3807",
   "metadata": {},
   "outputs": [
    {
     "data": {
      "image/png": "[encoded data removed]",
      "text/plain": [
       "<Figure size 576x396 with 1 Axes>"
      ]
     },
     "metadata": {},
     "output_type": "display_data"
    },
    {
     "data": {
      "text/plain": [
       "<AxesSubplot:title={'center':'Features correlation with dependent variable'}, xlabel='Pearson Correlation'>"
      ]
     },
     "execution_count": 10,
     "metadata": {},
     "output_type": "execute_result"
    }
   ],
   "source": [
    "visualizer=FeatureCorrelation(labels=feature_names)\n",
    "visualizer.fit(features,target)\n",
    "visualizer.poof()"
   ]
  },
  {
   "cell_type": "markdown",
   "id": "57b7a79f",
   "metadata": {},
   "source": [
    "# <span style='color:blue'>Select top features by passing parameters after running REGRESSOR</span>"
   ]
  },
  {
   "cell_type": "code",
   "execution_count": 11,
   "id": "7501c760",
   "metadata": {},
   "outputs": [],
   "source": [
    "from sklearn.feature_selection import SelectKBest\n",
    "from sklearn.feature_selection import f_regression, mutual_info_regression"
   ]
  },
  {
   "cell_type": "markdown",
   "id": "049008c5",
   "metadata": {},
   "source": [
    "# Select one of the below , f_regression or mutual_info_regression to fit the regression model. mutual...calculates the dependency between independent and target variables, rest is the same flow of calculation"
   ]
  },
  {
   "cell_type": "code",
   "execution_count": 37,
   "id": "45195205",
   "metadata": {},
   "outputs": [],
   "source": [
    "#select_univariate =SelectKBest(f_regression,k=5).fit(features,target)"
   ]
  },
  {
   "cell_type": "code",
   "execution_count": 39,
   "id": "2bb2c785",
   "metadata": {},
   "outputs": [],
   "source": [
    "select_univariatect=SelectKBest(mutual_info_regression,k=5).fit(features,target)"
   ]
  },
  {
   "cell_type": "code",
   "execution_count": 40,
   "id": "0bed7ef6",
   "metadata": {},
   "outputs": [
    {
     "data": {
      "text/plain": [
       "array([False,  True,  True, False, False, False, False, False,  True,\n",
       "        True, False,  True, False, False, False])"
      ]
     },
     "execution_count": 40,
     "metadata": {},
     "output_type": "execute_result"
    }
   ],
   "source": [
    "feature_mask=select_univariate.get_support()\n",
    "feature_mask"
   ]
  },
  {
   "cell_type": "code",
   "execution_count": 41,
   "id": "1764622f",
   "metadata": {},
   "outputs": [
    {
     "data": {
      "text/plain": [
       "Index(['bathrooms', 'sqft_living', 'grade', 'sqft_above', 'sqft_living15'], dtype='object')"
      ]
     },
     "execution_count": 41,
     "metadata": {},
     "output_type": "execute_result"
    }
   ],
   "source": [
    "selected_columns=features.columns[feature_mask]\n",
    "selected_columns"
   ]
  },
  {
   "cell_type": "code",
   "execution_count": 42,
   "id": "d4182f2a",
   "metadata": {},
   "outputs": [
    {
     "data": {
      "text/html": [
       "<div>\n",
       "<style scoped>\n",
       "    .dataframe tbody tr th:only-of-type {\n",
       "        vertical-align: middle;\n",
       "    }\n",
       "\n",
       "    .dataframe tbody tr th {\n",
       "        vertical-align: top;\n",
       "    }\n",
       "\n",
       "    .dataframe thead th {\n",
       "        text-align: right;\n",
       "    }\n",
       "</style>\n",
       "<table border=\"1\" class=\"dataframe\">\n",
       "  <thead>\n",
       "    <tr style=\"text-align: right;\">\n",
       "      <th></th>\n",
       "      <th>bathrooms</th>\n",
       "      <th>sqft_living</th>\n",
       "      <th>grade</th>\n",
       "      <th>sqft_above</th>\n",
       "      <th>sqft_living15</th>\n",
       "    </tr>\n",
       "  </thead>\n",
       "  <tbody>\n",
       "    <tr>\n",
       "      <th>0</th>\n",
       "      <td>1.00</td>\n",
       "      <td>1180</td>\n",
       "      <td>7</td>\n",
       "      <td>1180</td>\n",
       "      <td>1340</td>\n",
       "    </tr>\n",
       "    <tr>\n",
       "      <th>1</th>\n",
       "      <td>2.25</td>\n",
       "      <td>2570</td>\n",
       "      <td>7</td>\n",
       "      <td>2170</td>\n",
       "      <td>1690</td>\n",
       "    </tr>\n",
       "    <tr>\n",
       "      <th>2</th>\n",
       "      <td>1.00</td>\n",
       "      <td>770</td>\n",
       "      <td>6</td>\n",
       "      <td>770</td>\n",
       "      <td>2720</td>\n",
       "    </tr>\n",
       "    <tr>\n",
       "      <th>3</th>\n",
       "      <td>3.00</td>\n",
       "      <td>1960</td>\n",
       "      <td>7</td>\n",
       "      <td>1050</td>\n",
       "      <td>1360</td>\n",
       "    </tr>\n",
       "    <tr>\n",
       "      <th>4</th>\n",
       "      <td>2.00</td>\n",
       "      <td>1680</td>\n",
       "      <td>8</td>\n",
       "      <td>1680</td>\n",
       "      <td>1800</td>\n",
       "    </tr>\n",
       "  </tbody>\n",
       "</table>\n",
       "</div>"
      ],
      "text/plain": [
       "   bathrooms  sqft_living  grade  sqft_above  sqft_living15\n",
       "0       1.00         1180      7        1180           1340\n",
       "1       2.25         2570      7        2170           1690\n",
       "2       1.00          770      6         770           2720\n",
       "3       3.00         1960      7        1050           1360\n",
       "4       2.00         1680      8        1680           1800"
      ]
     },
     "execution_count": 42,
     "metadata": {},
     "output_type": "execute_result"
    }
   ],
   "source": [
    "selected_features=features[selected_columns]\n",
    "selected_features.head()"
   ]
  },
  {
   "cell_type": "code",
   "execution_count": 43,
   "id": "b6bd4b79",
   "metadata": {},
   "outputs": [
    {
     "data": {
      "text/html": [
       "<div>\n",
       "<style scoped>\n",
       "    .dataframe tbody tr th:only-of-type {\n",
       "        vertical-align: middle;\n",
       "    }\n",
       "\n",
       "    .dataframe tbody tr th {\n",
       "        vertical-align: top;\n",
       "    }\n",
       "\n",
       "    .dataframe thead th {\n",
       "        text-align: right;\n",
       "    }\n",
       "</style>\n",
       "<table border=\"1\" class=\"dataframe\">\n",
       "  <thead>\n",
       "    <tr style=\"text-align: right;\">\n",
       "      <th></th>\n",
       "      <th>bathrooms</th>\n",
       "      <th>sqft_living</th>\n",
       "      <th>grade</th>\n",
       "      <th>sqft_above</th>\n",
       "      <th>sqft_living15</th>\n",
       "    </tr>\n",
       "  </thead>\n",
       "  <tbody>\n",
       "    <tr>\n",
       "      <th>count</th>\n",
       "      <td>21613.000000</td>\n",
       "      <td>21613.000000</td>\n",
       "      <td>21613.000000</td>\n",
       "      <td>21613.000000</td>\n",
       "      <td>21613.000000</td>\n",
       "    </tr>\n",
       "    <tr>\n",
       "      <th>mean</th>\n",
       "      <td>2.114757</td>\n",
       "      <td>2079.899736</td>\n",
       "      <td>7.656873</td>\n",
       "      <td>1788.390691</td>\n",
       "      <td>1986.552492</td>\n",
       "    </tr>\n",
       "    <tr>\n",
       "      <th>std</th>\n",
       "      <td>0.770163</td>\n",
       "      <td>918.440897</td>\n",
       "      <td>1.175459</td>\n",
       "      <td>828.090978</td>\n",
       "      <td>685.391304</td>\n",
       "    </tr>\n",
       "    <tr>\n",
       "      <th>min</th>\n",
       "      <td>0.000000</td>\n",
       "      <td>290.000000</td>\n",
       "      <td>1.000000</td>\n",
       "      <td>290.000000</td>\n",
       "      <td>399.000000</td>\n",
       "    </tr>\n",
       "    <tr>\n",
       "      <th>25%</th>\n",
       "      <td>1.750000</td>\n",
       "      <td>1427.000000</td>\n",
       "      <td>7.000000</td>\n",
       "      <td>1190.000000</td>\n",
       "      <td>1490.000000</td>\n",
       "    </tr>\n",
       "    <tr>\n",
       "      <th>50%</th>\n",
       "      <td>2.250000</td>\n",
       "      <td>1910.000000</td>\n",
       "      <td>7.000000</td>\n",
       "      <td>1560.000000</td>\n",
       "      <td>1840.000000</td>\n",
       "    </tr>\n",
       "    <tr>\n",
       "      <th>75%</th>\n",
       "      <td>2.500000</td>\n",
       "      <td>2550.000000</td>\n",
       "      <td>8.000000</td>\n",
       "      <td>2210.000000</td>\n",
       "      <td>2360.000000</td>\n",
       "    </tr>\n",
       "    <tr>\n",
       "      <th>max</th>\n",
       "      <td>8.000000</td>\n",
       "      <td>13540.000000</td>\n",
       "      <td>13.000000</td>\n",
       "      <td>9410.000000</td>\n",
       "      <td>6210.000000</td>\n",
       "    </tr>\n",
       "  </tbody>\n",
       "</table>\n",
       "</div>"
      ],
      "text/plain": [
       "          bathrooms   sqft_living         grade    sqft_above  sqft_living15\n",
       "count  21613.000000  21613.000000  21613.000000  21613.000000   21613.000000\n",
       "mean       2.114757   2079.899736      7.656873   1788.390691    1986.552492\n",
       "std        0.770163    918.440897      1.175459    828.090978     685.391304\n",
       "min        0.000000    290.000000      1.000000    290.000000     399.000000\n",
       "25%        1.750000   1427.000000      7.000000   1190.000000    1490.000000\n",
       "50%        2.250000   1910.000000      7.000000   1560.000000    1840.000000\n",
       "75%        2.500000   2550.000000      8.000000   2210.000000    2360.000000\n",
       "max        8.000000  13540.000000     13.000000   9410.000000    6210.000000"
      ]
     },
     "execution_count": 43,
     "metadata": {},
     "output_type": "execute_result"
    }
   ],
   "source": [
    "selected_features.describe()"
   ]
  },
  {
   "cell_type": "code",
   "execution_count": 44,
   "id": "93ac6370",
   "metadata": {},
   "outputs": [],
   "source": [
    "from sklearn.preprocessing import scale"
   ]
  },
  {
   "cell_type": "code",
   "execution_count": 45,
   "id": "2644e69d",
   "metadata": {},
   "outputs": [],
   "source": [
    "X=pd.DataFrame(data=scale(selected_features),columns=selected_features.columns)\n",
    "y=target"
   ]
  },
  {
   "cell_type": "code",
   "execution_count": 46,
   "id": "c0cd5df3",
   "metadata": {
    "scrolled": true
   },
   "outputs": [
    {
     "data": {
      "text/html": [
       "<div>\n",
       "<style scoped>\n",
       "    .dataframe tbody tr th:only-of-type {\n",
       "        vertical-align: middle;\n",
       "    }\n",
       "\n",
       "    .dataframe tbody tr th {\n",
       "        vertical-align: top;\n",
       "    }\n",
       "\n",
       "    .dataframe thead th {\n",
       "        text-align: right;\n",
       "    }\n",
       "</style>\n",
       "<table border=\"1\" class=\"dataframe\">\n",
       "  <thead>\n",
       "    <tr style=\"text-align: right;\">\n",
       "      <th></th>\n",
       "      <th>bathrooms</th>\n",
       "      <th>sqft_living</th>\n",
       "      <th>grade</th>\n",
       "      <th>sqft_above</th>\n",
       "      <th>sqft_living15</th>\n",
       "    </tr>\n",
       "  </thead>\n",
       "  <tbody>\n",
       "    <tr>\n",
       "      <th>count</th>\n",
       "      <td>2.161300e+04</td>\n",
       "      <td>2.161300e+04</td>\n",
       "      <td>2.161300e+04</td>\n",
       "      <td>2.161300e+04</td>\n",
       "      <td>2.161300e+04</td>\n",
       "    </tr>\n",
       "    <tr>\n",
       "      <th>mean</th>\n",
       "      <td>-1.051951e-15</td>\n",
       "      <td>3.174253e-16</td>\n",
       "      <td>-2.328998e-15</td>\n",
       "      <td>3.892022e-16</td>\n",
       "      <td>-1.506632e-16</td>\n",
       "    </tr>\n",
       "    <tr>\n",
       "      <th>std</th>\n",
       "      <td>1.000023e+00</td>\n",
       "      <td>1.000023e+00</td>\n",
       "      <td>1.000023e+00</td>\n",
       "      <td>1.000023e+00</td>\n",
       "      <td>1.000023e+00</td>\n",
       "    </tr>\n",
       "    <tr>\n",
       "      <th>min</th>\n",
       "      <td>-2.745920e+00</td>\n",
       "      <td>-1.948891e+00</td>\n",
       "      <td>-5.663344e+00</td>\n",
       "      <td>-1.809494e+00</td>\n",
       "      <td>-2.316325e+00</td>\n",
       "    </tr>\n",
       "    <tr>\n",
       "      <th>25%</th>\n",
       "      <td>-4.736214e-01</td>\n",
       "      <td>-7.108948e-01</td>\n",
       "      <td>-5.588357e-01</td>\n",
       "      <td>-7.226314e-01</td>\n",
       "      <td>-7.244971e-01</td>\n",
       "    </tr>\n",
       "    <tr>\n",
       "      <th>50%</th>\n",
       "      <td>1.756067e-01</td>\n",
       "      <td>-1.849914e-01</td>\n",
       "      <td>-5.588357e-01</td>\n",
       "      <td>-2.758102e-01</td>\n",
       "      <td>-2.138280e-01</td>\n",
       "    </tr>\n",
       "    <tr>\n",
       "      <th>75%</th>\n",
       "      <td>5.002207e-01</td>\n",
       "      <td>5.118578e-01</td>\n",
       "      <td>2.919156e-01</td>\n",
       "      <td>5.091458e-01</td>\n",
       "      <td>5.448802e-01</td>\n",
       "    </tr>\n",
       "    <tr>\n",
       "      <th>max</th>\n",
       "      <td>7.641730e+00</td>\n",
       "      <td>1.247807e+01</td>\n",
       "      <td>4.545672e+00</td>\n",
       "      <td>9.204044e+00</td>\n",
       "      <td>6.162239e+00</td>\n",
       "    </tr>\n",
       "  </tbody>\n",
       "</table>\n",
       "</div>"
      ],
      "text/plain": [
       "          bathrooms   sqft_living         grade    sqft_above  sqft_living15\n",
       "count  2.161300e+04  2.161300e+04  2.161300e+04  2.161300e+04   2.161300e+04\n",
       "mean  -1.051951e-15  3.174253e-16 -2.328998e-15  3.892022e-16  -1.506632e-16\n",
       "std    1.000023e+00  1.000023e+00  1.000023e+00  1.000023e+00   1.000023e+00\n",
       "min   -2.745920e+00 -1.948891e+00 -5.663344e+00 -1.809494e+00  -2.316325e+00\n",
       "25%   -4.736214e-01 -7.108948e-01 -5.588357e-01 -7.226314e-01  -7.244971e-01\n",
       "50%    1.756067e-01 -1.849914e-01 -5.588357e-01 -2.758102e-01  -2.138280e-01\n",
       "75%    5.002207e-01  5.118578e-01  2.919156e-01  5.091458e-01   5.448802e-01\n",
       "max    7.641730e+00  1.247807e+01  4.545672e+00  9.204044e+00   6.162239e+00"
      ]
     },
     "execution_count": 46,
     "metadata": {},
     "output_type": "execute_result"
    }
   ],
   "source": [
    "X.describe()"
   ]
  },
  {
   "cell_type": "code",
   "execution_count": 47,
   "id": "cbf9a6c1",
   "metadata": {},
   "outputs": [],
   "source": [
    "from sklearn.model_selection import train_test_split"
   ]
  },
  {
   "cell_type": "code",
   "execution_count": 48,
   "id": "32897112",
   "metadata": {},
   "outputs": [],
   "source": [
    "X_train,X_test,y_train,y_test = train_test_split(X,y,test_size=.2)"
   ]
  },
  {
   "cell_type": "code",
   "execution_count": 49,
   "id": "c5ecb3a1",
   "metadata": {},
   "outputs": [],
   "source": [
    "from sklearn.linear_model import LinearRegression"
   ]
  },
  {
   "cell_type": "code",
   "execution_count": 50,
   "id": "c78830dd",
   "metadata": {},
   "outputs": [
    {
     "data": {
      "text/plain": [
       "LinearRegression()"
      ]
     },
     "execution_count": 50,
     "metadata": {},
     "output_type": "execute_result"
    }
   ],
   "source": [
    "linear_regression = LinearRegression()\n",
    "linear_regression.fit(X_train,y_train)"
   ]
  },
  {
   "cell_type": "code",
   "execution_count": 51,
   "id": "c93a32f5",
   "metadata": {},
   "outputs": [],
   "source": [
    "y_pred= linear_regression.predict(X_test)"
   ]
  },
  {
   "cell_type": "code",
   "execution_count": 52,
   "id": "92c88280",
   "metadata": {},
   "outputs": [
    {
     "data": {
      "text/html": [
       "<div>\n",
       "<style scoped>\n",
       "    .dataframe tbody tr th:only-of-type {\n",
       "        vertical-align: middle;\n",
       "    }\n",
       "\n",
       "    .dataframe tbody tr th {\n",
       "        vertical-align: top;\n",
       "    }\n",
       "\n",
       "    .dataframe thead th {\n",
       "        text-align: right;\n",
       "    }\n",
       "</style>\n",
       "<table border=\"1\" class=\"dataframe\">\n",
       "  <thead>\n",
       "    <tr style=\"text-align: right;\">\n",
       "      <th></th>\n",
       "      <th>test</th>\n",
       "      <th>Predicted</th>\n",
       "    </tr>\n",
       "  </thead>\n",
       "  <tbody>\n",
       "    <tr>\n",
       "      <th>13278</th>\n",
       "      <td>370000.0</td>\n",
       "      <td>316540.749442</td>\n",
       "    </tr>\n",
       "    <tr>\n",
       "      <th>432</th>\n",
       "      <td>1000000.0</td>\n",
       "      <td>681542.046409</td>\n",
       "    </tr>\n",
       "    <tr>\n",
       "      <th>20120</th>\n",
       "      <td>439990.0</td>\n",
       "      <td>560750.545730</td>\n",
       "    </tr>\n",
       "    <tr>\n",
       "      <th>7574</th>\n",
       "      <td>625000.0</td>\n",
       "      <td>751541.551802</td>\n",
       "    </tr>\n",
       "    <tr>\n",
       "      <th>5250</th>\n",
       "      <td>379000.0</td>\n",
       "      <td>656484.131611</td>\n",
       "    </tr>\n",
       "  </tbody>\n",
       "</table>\n",
       "</div>"
      ],
      "text/plain": [
       "            test      Predicted\n",
       "13278   370000.0  316540.749442\n",
       "432    1000000.0  681542.046409\n",
       "20120   439990.0  560750.545730\n",
       "7574    625000.0  751541.551802\n",
       "5250    379000.0  656484.131611"
      ]
     },
     "execution_count": 52,
     "metadata": {},
     "output_type": "execute_result"
    }
   ],
   "source": [
    "df=pd.DataFrame({'test':y_test,'Predicted':y_pred})\n",
    "df.head()"
   ]
  },
  {
   "cell_type": "code",
   "execution_count": 53,
   "id": "e6083a0b",
   "metadata": {},
   "outputs": [],
   "source": [
    "from sklearn.metrics import r2_score"
   ]
  },
  {
   "cell_type": "code",
   "execution_count": 54,
   "id": "b1f23ede",
   "metadata": {},
   "outputs": [
    {
     "name": "stdout",
     "output_type": "stream",
     "text": [
      "0.5480109443211387\n"
     ]
    }
   ],
   "source": [
    "score = linear_regression.score(X_train,y_train)\n",
    "print(score)"
   ]
  },
  {
   "cell_type": "code",
   "execution_count": 55,
   "id": "db405497",
   "metadata": {},
   "outputs": [
    {
     "data": {
      "text/plain": [
       "0.5287895868127995"
      ]
     },
     "execution_count": 55,
     "metadata": {},
     "output_type": "execute_result"
    }
   ],
   "source": [
    "linear_regression.score(X_test,y_test)"
   ]
  },
  {
   "cell_type": "code",
   "execution_count": 56,
   "id": "09ed0a3e",
   "metadata": {},
   "outputs": [
    {
     "name": "stdout",
     "output_type": "stream",
     "text": [
      "0.5287895868127995\n"
     ]
    }
   ],
   "source": [
    "r2score=r2_score(y_test,y_pred)\n",
    "print(r2score)"
   ]
  },
  {
   "cell_type": "code",
   "execution_count": 57,
   "id": "f15d5655",
   "metadata": {},
   "outputs": [
    {
     "name": "stdout",
     "output_type": "stream",
     "text": [
      "Score : 0.5480109443211387\n",
      "r2_score:0.5287895868127995\n"
     ]
    }
   ],
   "source": [
    "print('Score : {}'.format(score))\n",
    "print('r2_score:{}'.format(r2score))"
   ]
  },
  {
   "cell_type": "code",
   "execution_count": 58,
   "id": "f2bdd9b4",
   "metadata": {},
   "outputs": [
    {
     "data": {
      "text/plain": [
       "array([-25307.07368763, 227720.95686442, 130586.55671187, -68376.42564397,\n",
       "        12876.23980959])"
      ]
     },
     "execution_count": 58,
     "metadata": {},
     "output_type": "execute_result"
    }
   ],
   "source": [
    "linear_regression.coef_"
   ]
  },
  {
   "cell_type": "code",
   "execution_count": 59,
   "id": "60c59fcb",
   "metadata": {},
   "outputs": [
    {
     "data": {
      "text/plain": [
       "538827.5436437274"
      ]
     },
     "execution_count": 59,
     "metadata": {},
     "output_type": "execute_result"
    }
   ],
   "source": [
    "linear_regression.intercept_"
   ]
  },
  {
   "cell_type": "markdown",
   "id": "9763ce16",
   "metadata": {},
   "source": [
    "# <span style='color:blue'> Multiple Regression using ANALYTICAL Technique</span>"
   ]
  },
  {
   "cell_type": "code",
   "execution_count": 60,
   "id": "69059366",
   "metadata": {},
   "outputs": [],
   "source": [
    "import statsmodels.api as sm"
   ]
  },
  {
   "cell_type": "code",
   "execution_count": 61,
   "id": "74a380ad",
   "metadata": {},
   "outputs": [],
   "source": [
    "X_train=sm.add_constant(X_train)"
   ]
  },
  {
   "cell_type": "code",
   "execution_count": 62,
   "id": "f31037c8",
   "metadata": {},
   "outputs": [
    {
     "data": {
      "text/html": [
       "<div>\n",
       "<style scoped>\n",
       "    .dataframe tbody tr th:only-of-type {\n",
       "        vertical-align: middle;\n",
       "    }\n",
       "\n",
       "    .dataframe tbody tr th {\n",
       "        vertical-align: top;\n",
       "    }\n",
       "\n",
       "    .dataframe thead th {\n",
       "        text-align: right;\n",
       "    }\n",
       "</style>\n",
       "<table border=\"1\" class=\"dataframe\">\n",
       "  <thead>\n",
       "    <tr style=\"text-align: right;\">\n",
       "      <th></th>\n",
       "      <th>const</th>\n",
       "      <th>bathrooms</th>\n",
       "      <th>sqft_living</th>\n",
       "      <th>grade</th>\n",
       "      <th>sqft_above</th>\n",
       "      <th>sqft_living15</th>\n",
       "    </tr>\n",
       "  </thead>\n",
       "  <tbody>\n",
       "    <tr>\n",
       "      <th>7382</th>\n",
       "      <td>1.0</td>\n",
       "      <td>-0.473621</td>\n",
       "      <td>-0.010779</td>\n",
       "      <td>0.291916</td>\n",
       "      <td>0.340078</td>\n",
       "      <td>0.938825</td>\n",
       "    </tr>\n",
       "    <tr>\n",
       "      <th>4284</th>\n",
       "      <td>1.0</td>\n",
       "      <td>-1.447464</td>\n",
       "      <td>-1.066941</td>\n",
       "      <td>-0.558836</td>\n",
       "      <td>-0.831318</td>\n",
       "      <td>-0.315962</td>\n",
       "    </tr>\n",
       "    <tr>\n",
       "      <th>6426</th>\n",
       "      <td>1.0</td>\n",
       "      <td>0.500221</td>\n",
       "      <td>-0.511639</td>\n",
       "      <td>-0.558836</td>\n",
       "      <td>-0.215429</td>\n",
       "      <td>-0.549411</td>\n",
       "    </tr>\n",
       "    <tr>\n",
       "      <th>20076</th>\n",
       "      <td>1.0</td>\n",
       "      <td>0.500221</td>\n",
       "      <td>0.176499</td>\n",
       "      <td>0.291916</td>\n",
       "      <td>0.547790</td>\n",
       "      <td>-0.275108</td>\n",
       "    </tr>\n",
       "    <tr>\n",
       "      <th>9239</th>\n",
       "      <td>1.0</td>\n",
       "      <td>0.500221</td>\n",
       "      <td>1.459137</td>\n",
       "      <td>1.142667</td>\n",
       "      <td>1.970372</td>\n",
       "      <td>1.974753</td>\n",
       "    </tr>\n",
       "  </tbody>\n",
       "</table>\n",
       "</div>"
      ],
      "text/plain": [
       "       const  bathrooms  sqft_living     grade  sqft_above  sqft_living15\n",
       "7382     1.0  -0.473621    -0.010779  0.291916    0.340078       0.938825\n",
       "4284     1.0  -1.447464    -1.066941 -0.558836   -0.831318      -0.315962\n",
       "6426     1.0   0.500221    -0.511639 -0.558836   -0.215429      -0.549411\n",
       "20076    1.0   0.500221     0.176499  0.291916    0.547790      -0.275108\n",
       "9239     1.0   0.500221     1.459137  1.142667    1.970372       1.974753"
      ]
     },
     "execution_count": 62,
     "metadata": {},
     "output_type": "execute_result"
    }
   ],
   "source": [
    "X_train.head()"
   ]
  },
  {
   "cell_type": "code",
   "execution_count": 63,
   "id": "8ac403c9",
   "metadata": {},
   "outputs": [
    {
     "name": "stdout",
     "output_type": "stream",
     "text": [
      "                            OLS Regression Results                            \n",
      "==============================================================================\n",
      "Dep. Variable:                  price   R-squared:                       0.548\n",
      "Model:                            OLS   Adj. R-squared:                  0.548\n",
      "Method:                 Least Squares   F-statistic:                     4191.\n",
      "Date:                Tue, 21 Sep 2021   Prob (F-statistic):               0.00\n",
      "Time:                        06:54:04   Log-Likelihood:            -2.3920e+05\n",
      "No. Observations:               17290   AIC:                         4.784e+05\n",
      "Df Residuals:                   17284   BIC:                         4.785e+05\n",
      "Df Model:                           5                                         \n",
      "Covariance Type:            nonrobust                                         \n",
      "=================================================================================\n",
      "                    coef    std err          t      P>|t|      [0.025      0.975]\n",
      "---------------------------------------------------------------------------------\n",
      "const          5.388e+05   1875.966    287.227      0.000    5.35e+05    5.43e+05\n",
      "bathrooms     -2.531e+04   2936.959     -8.617      0.000   -3.11e+04   -1.96e+04\n",
      "sqft_living    2.277e+05   4615.545     49.338      0.000    2.19e+05    2.37e+05\n",
      "grade          1.306e+05   3215.725     40.609      0.000    1.24e+05    1.37e+05\n",
      "sqft_above    -6.838e+04   4105.969    -16.653      0.000   -7.64e+04   -6.03e+04\n",
      "sqft_living15  1.288e+04   3071.445      4.192      0.000    6855.896    1.89e+04\n",
      "==============================================================================\n",
      "Omnibus:                    14100.432   Durbin-Watson:                   2.033\n",
      "Prob(Omnibus):                  0.000   Jarque-Bera (JB):          1040874.588\n",
      "Skew:                           3.430   Prob(JB):                         0.00\n",
      "Kurtosis:                      40.387   Cond. No.                         5.90\n",
      "==============================================================================\n",
      "\n",
      "Notes:\n",
      "[1] Standard Errors assume that the covariance matrix of the errors is correctly specified.\n"
     ]
    }
   ],
   "source": [
    "model=sm.OLS(y_train,X_train).fit()\n",
    "y_pred=model.predict(X_train)\n",
    "print(model.summary())"
   ]
  },
  {
   "cell_type": "code",
   "execution_count": null,
   "id": "3a132efa",
   "metadata": {},
   "outputs": [],
   "source": []
  },
  {
   "cell_type": "code",
   "execution_count": null,
   "id": "b5ee0bd4",
   "metadata": {},
   "outputs": [],
   "source": []
  },
  {
   "cell_type": "code",
   "execution_count": null,
   "id": "0bc143d2",
   "metadata": {},
   "outputs": [],
   "source": []
  },
  {
   "cell_type": "code",
   "execution_count": null,
   "id": "7fd0cce2",
   "metadata": {},
   "outputs": [],
   "source": []
  },
  {
   "cell_type": "code",
   "execution_count": null,
   "id": "b0888642",
   "metadata": {},
   "outputs": [],
   "source": []
  },
  {
   "cell_type": "code",
   "execution_count": null,
   "id": "423bc81a",
   "metadata": {},
   "outputs": [],
   "source": []
  },
  {
   "cell_type": "code",
   "execution_count": null,
   "id": "70d35380",
   "metadata": {},
   "outputs": [],
   "source": []
  },
  {
   "cell_type": "code",
   "execution_count": null,
   "id": "14d875c6",
   "metadata": {},
   "outputs": [],
   "source": []
  },
  {
   "cell_type": "code",
   "execution_count": null,
   "id": "00c10457",
   "metadata": {},
   "outputs": [],
   "source": []
  },
  {
   "cell_type": "code",
   "execution_count": null,
   "id": "35bc31bd",
   "metadata": {},
   "outputs": [],
   "source": []
  },
  {
   "cell_type": "code",
   "execution_count": null,
   "id": "4eed0968",
   "metadata": {},
   "outputs": [],
   "source": []
  },
  {
   "cell_type": "code",
   "execution_count": null,
   "id": "deb552cc",
   "metadata": {},
   "outputs": [],
   "source": []
  },
  {
   "cell_type": "code",
   "execution_count": null,
   "id": "bfb3da56",
   "metadata": {},
   "outputs": [],
   "source": []
  },
  {
   "cell_type": "code",
   "execution_count": null,
   "id": "9dcc0860",
   "metadata": {},
   "outputs": [],
   "source": []
  },
  {
   "cell_type": "code",
   "execution_count": null,
   "id": "d40dcdb5",
   "metadata": {},
   "outputs": [],
   "source": []
  },
  {
   "cell_type": "code",
   "execution_count": null,
   "id": "82b5cfb8",
   "metadata": {},
   "outputs": [],
   "source": []
  },
  {
   "cell_type": "code",
   "execution_count": null,
   "id": "8dc0ea30",
   "metadata": {},
   "outputs": [],
   "source": []
  },
  {
   "cell_type": "code",
   "execution_count": null,
   "id": "50b6196b",
   "metadata": {},
   "outputs": [],
   "source": []
  },
  {
   "cell_type": "code",
   "execution_count": null,
   "id": "2478c4db",
   "metadata": {},
   "outputs": [],
   "source": []
  },
  {
   "cell_type": "code",
   "execution_count": null,
   "id": "8a7ef685",
   "metadata": {},
   "outputs": [],
   "source": []
  },
  {
   "cell_type": "code",
   "execution_count": null,
   "id": "a51c5a77",
   "metadata": {},
   "outputs": [],
   "source": []
  },
  {
   "cell_type": "code",
   "execution_count": null,
   "id": "c74a09db",
   "metadata": {},
   "outputs": [],
   "source": []
  }
 ],
 "metadata": {
  "kernelspec": {
   "display_name": "Python 3",
   "language": "python",
   "name": "python3"
  },
  "language_info": {
   "codemirror_mode": {
    "name": "ipython",
    "version": 3
   },
   "file_extension": ".py",
   "mimetype": "text/x-python",
   "name": "python",
   "nbconvert_exporter": "python",
   "pygments_lexer": "ipython3",
   "version": "3.8.8"
  }
 },
 "nbformat": 4,
 "nbformat_minor": 5
}
